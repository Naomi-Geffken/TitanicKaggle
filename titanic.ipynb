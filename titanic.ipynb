{
 "cells": [
  {
   "cell_type": "markdown",
   "metadata": {},
   "source": [
    "**Chapter 3 – Classification**\n",
    "\n",
    "_This notebook contains all the sample code and solutions to the exercises in chapter 3._"
   ]
  },
  {
   "cell_type": "markdown",
   "metadata": {},
   "source": [
    "# Setup HELLOOOOO"
   ]
  },
  {
   "cell_type": "markdown",
   "metadata": {},
   "source": [
    "First, let's make sure this notebook works well in both python 2 and 3, import a few common modules, ensure MatplotLib plots figures inline and prepare a function to save the figures:\n",
    "\n",
    "\n",
    "\n",
    "Next Steps!! =D\n",
    "\n",
    "Visualize!\n",
    "Clean Data (what to do with null values)\n",
    "RandomForestClassifier & SVC\n",
    "Cross Validate\n",
    "Feature Union\n",
    "\n",
    "*To Do* \n",
    "Logistic Regression\n",
    "Decision Tree Classifier\n",
    "\n"
   ]
  },
  {
   "cell_type": "code",
<<<<<<< HEAD
   "execution_count": 1,
=======
   "execution_count": 294,
>>>>>>> 9394823c3c8bc9a1cb9c3777e1cd3eac92d21b9f
   "metadata": {},
   "outputs": [],
   "source": [
    "# To support both python 2 and python 3\n",
    "from __future__ import division, print_function, unicode_literals\n",
    "\n",
    "# Common imports\n",
    "import numpy as np\n",
    "import os\n",
    "\n",
    "# to make this notebook's output stable across runs\n",
    "np.random.seed(42)\n",
    "\n",
    "# To plot pretty figures\n",
    "%matplotlib inline\n",
    "import matplotlib as mpl\n",
    "import matplotlib.pyplot as plt\n",
    "mpl.rc('axes', labelsize=14)\n",
    "mpl.rc('xtick', labelsize=12)\n",
    "mpl.rc('ytick', labelsize=12)\n",
    "\n",
    "# Where to save the figures\n",
    "PROJECT_ROOT_DIR = \".\"\n",
    "CHAPTER_ID = \"classification\"\n",
    "\n",
    "def save_fig(fig_id, tight_layout=True):\n",
    "    path = os.path.join(PROJECT_ROOT_DIR, \"images\", CHAPTER_ID, fig_id + \".png\")\n",
    "    print(\"Saving figure\", fig_id)\n",
    "    if tight_layout:\n",
    "        plt.tight_layout()\n",
    "    plt.savefig(path, format='png', dpi=300)"
   ]
  },
  {
   "cell_type": "markdown",
   "metadata": {},
   "source": [
    "## 3. Tackle the Titanic dataset"
   ]
  },
  {
   "cell_type": "markdown",
   "metadata": {},
   "source": [
    "The goal is to predict whether or not a passenger survived based on attributes such as their age, sex, passenger class, where they embarked and so on."
   ]
  },
  {
   "cell_type": "markdown",
   "metadata": {},
   "source": [
    "First, login to [Kaggle](https://www.kaggle.com/) and go to the [Titanic challenge](https://www.kaggle.com/c/titanic) to download `train.csv` and `test.csv`. Save them to the `datasets/titanic` directory."
   ]
  },
  {
   "cell_type": "markdown",
   "metadata": {},
   "source": [
    "Next, let's load the data:"
   ]
  },
  {
   "cell_type": "code",
<<<<<<< HEAD
   "execution_count": 2,
=======
   "execution_count": 295,
>>>>>>> 9394823c3c8bc9a1cb9c3777e1cd3eac92d21b9f
   "metadata": {},
   "outputs": [],
   "source": [
    "import pandas as pd\n",
    "import os\n",
    "\n",
    "def load_titanic_data(filename):\n",
    "    csv_path = os.path.join(filename)\n",
    "    return pd.read_csv(csv_path)"
   ]
  },
  {
   "cell_type": "code",
<<<<<<< HEAD
   "execution_count": 3,
=======
   "execution_count": 296,
>>>>>>> 9394823c3c8bc9a1cb9c3777e1cd3eac92d21b9f
   "metadata": {},
   "outputs": [],
   "source": [
    "train_data = load_titanic_data(\"train.csv\")\n",
    "test_data = load_titanic_data(\"test.csv\")"
   ]
  },
  {
   "cell_type": "markdown",
   "metadata": {},
   "source": [
    "The data is already split into a training set and a test set. However, the test data does *not* contain the labels: your goal is to train the best model you can using the training data, then make your predictions on the test data and upload them to Kaggle to see your final score."
   ]
  },
  {
   "cell_type": "markdown",
   "metadata": {},
   "source": [
    "Let's take a peek at the top few rows of the training set:"
   ]
  },
  {
   "cell_type": "code",
<<<<<<< HEAD
   "execution_count": 4,
=======
   "execution_count": 297,
>>>>>>> 9394823c3c8bc9a1cb9c3777e1cd3eac92d21b9f
   "metadata": {},
   "outputs": [
    {
     "data": {
      "text/html": [
       "<div>\n",
       "<style scoped>\n",
       "    .dataframe tbody tr th:only-of-type {\n",
       "        vertical-align: middle;\n",
       "    }\n",
       "\n",
       "    .dataframe tbody tr th {\n",
       "        vertical-align: top;\n",
       "    }\n",
       "\n",
       "    .dataframe thead th {\n",
       "        text-align: right;\n",
       "    }\n",
       "</style>\n",
       "<table border=\"1\" class=\"dataframe\">\n",
       "  <thead>\n",
       "    <tr style=\"text-align: right;\">\n",
       "      <th></th>\n",
       "      <th>PassengerId</th>\n",
       "      <th>Survived</th>\n",
       "      <th>Pclass</th>\n",
       "      <th>Name</th>\n",
       "      <th>Sex</th>\n",
       "      <th>Age</th>\n",
       "      <th>SibSp</th>\n",
       "      <th>Parch</th>\n",
       "      <th>Ticket</th>\n",
       "      <th>Fare</th>\n",
       "      <th>Cabin</th>\n",
       "      <th>Embarked</th>\n",
       "    </tr>\n",
       "  </thead>\n",
       "  <tbody>\n",
       "    <tr>\n",
       "      <th>0</th>\n",
       "      <td>1</td>\n",
       "      <td>0</td>\n",
       "      <td>3</td>\n",
       "      <td>Braund, Mr. Owen Harris</td>\n",
       "      <td>male</td>\n",
       "      <td>22.0</td>\n",
       "      <td>1</td>\n",
       "      <td>0</td>\n",
       "      <td>A/5 21171</td>\n",
       "      <td>7.2500</td>\n",
       "      <td>NaN</td>\n",
       "      <td>S</td>\n",
       "    </tr>\n",
       "    <tr>\n",
       "      <th>1</th>\n",
       "      <td>2</td>\n",
       "      <td>1</td>\n",
       "      <td>1</td>\n",
       "      <td>Cumings, Mrs. John Bradley (Florence Briggs Th...</td>\n",
       "      <td>female</td>\n",
       "      <td>38.0</td>\n",
       "      <td>1</td>\n",
       "      <td>0</td>\n",
       "      <td>PC 17599</td>\n",
       "      <td>71.2833</td>\n",
       "      <td>C85</td>\n",
       "      <td>C</td>\n",
       "    </tr>\n",
       "    <tr>\n",
       "      <th>2</th>\n",
       "      <td>3</td>\n",
       "      <td>1</td>\n",
       "      <td>3</td>\n",
       "      <td>Heikkinen, Miss. Laina</td>\n",
       "      <td>female</td>\n",
       "      <td>26.0</td>\n",
       "      <td>0</td>\n",
       "      <td>0</td>\n",
       "      <td>STON/O2. 3101282</td>\n",
       "      <td>7.9250</td>\n",
       "      <td>NaN</td>\n",
       "      <td>S</td>\n",
       "    </tr>\n",
       "    <tr>\n",
       "      <th>3</th>\n",
       "      <td>4</td>\n",
       "      <td>1</td>\n",
       "      <td>1</td>\n",
       "      <td>Futrelle, Mrs. Jacques Heath (Lily May Peel)</td>\n",
       "      <td>female</td>\n",
       "      <td>35.0</td>\n",
       "      <td>1</td>\n",
       "      <td>0</td>\n",
       "      <td>113803</td>\n",
       "      <td>53.1000</td>\n",
       "      <td>C123</td>\n",
       "      <td>S</td>\n",
       "    </tr>\n",
       "    <tr>\n",
       "      <th>4</th>\n",
       "      <td>5</td>\n",
       "      <td>0</td>\n",
       "      <td>3</td>\n",
       "      <td>Allen, Mr. William Henry</td>\n",
       "      <td>male</td>\n",
       "      <td>35.0</td>\n",
       "      <td>0</td>\n",
       "      <td>0</td>\n",
       "      <td>373450</td>\n",
       "      <td>8.0500</td>\n",
       "      <td>NaN</td>\n",
       "      <td>S</td>\n",
       "    </tr>\n",
       "  </tbody>\n",
       "</table>\n",
       "</div>"
      ],
      "text/plain": [
       "   PassengerId  Survived  Pclass  \\\n",
       "0            1         0       3   \n",
       "1            2         1       1   \n",
       "2            3         1       3   \n",
       "3            4         1       1   \n",
       "4            5         0       3   \n",
       "\n",
       "                                                Name     Sex   Age  SibSp  \\\n",
       "0                            Braund, Mr. Owen Harris    male  22.0      1   \n",
       "1  Cumings, Mrs. John Bradley (Florence Briggs Th...  female  38.0      1   \n",
       "2                             Heikkinen, Miss. Laina  female  26.0      0   \n",
       "3       Futrelle, Mrs. Jacques Heath (Lily May Peel)  female  35.0      1   \n",
       "4                           Allen, Mr. William Henry    male  35.0      0   \n",
       "\n",
       "   Parch            Ticket     Fare Cabin Embarked  \n",
       "0      0         A/5 21171   7.2500   NaN        S  \n",
       "1      0          PC 17599  71.2833   C85        C  \n",
       "2      0  STON/O2. 3101282   7.9250   NaN        S  \n",
       "3      0            113803  53.1000  C123        S  \n",
       "4      0            373450   8.0500   NaN        S  "
      ]
     },
<<<<<<< HEAD
     "execution_count": 4,
=======
     "execution_count": 297,
>>>>>>> 9394823c3c8bc9a1cb9c3777e1cd3eac92d21b9f
     "metadata": {},
     "output_type": "execute_result"
    }
   ],
   "source": [
    "train_data.head()"
   ]
  },
  {
   "cell_type": "markdown",
   "metadata": {},
   "source": [
    "The attributes have the following meaning:\n",
    "* **Survived**: that's the target, 0 means the passenger did not survive, while 1 means he/she survived.\n",
    "* **Pclass**: passenger class.\n",
    "* **Name**, **Sex**, **Age**: self-explanatory\n",
    "* **SibSp**: how many siblings & spouses of the passenger aboard the Titanic.\n",
    "* **Parch**: how many children & parents of the passenger aboard the Titanic.\n",
    "* **Ticket**: ticket id\n",
    "* **Fare**: price paid (in pounds)\n",
    "* **Cabin**: passenger's cabin number\n",
    "* **Embarked**: where the passenger embarked the Titanic"
   ]
  },
  {
   "cell_type": "markdown",
   "metadata": {},
   "source": [
    "Let's get more info to see how much data is missing:"
   ]
  },
  {
   "cell_type": "code",
<<<<<<< HEAD
   "execution_count": 5,
=======
   "execution_count": 298,
>>>>>>> 9394823c3c8bc9a1cb9c3777e1cd3eac92d21b9f
   "metadata": {},
   "outputs": [
    {
     "name": "stdout",
     "output_type": "stream",
     "text": [
      "<class 'pandas.core.frame.DataFrame'>\n",
      "RangeIndex: 891 entries, 0 to 890\n",
      "Data columns (total 12 columns):\n",
      "PassengerId    891 non-null int64\n",
      "Survived       891 non-null int64\n",
      "Pclass         891 non-null int64\n",
      "Name           891 non-null object\n",
      "Sex            891 non-null object\n",
      "Age            714 non-null float64\n",
      "SibSp          891 non-null int64\n",
      "Parch          891 non-null int64\n",
      "Ticket         891 non-null object\n",
      "Fare           891 non-null float64\n",
      "Cabin          204 non-null object\n",
      "Embarked       889 non-null object\n",
      "dtypes: float64(2), int64(5), object(5)\n",
      "memory usage: 83.6+ KB\n"
     ]
    }
   ],
   "source": [
    "\n",
    "train_data.info()"
   ]
  },
  {
   "cell_type": "markdown",
   "metadata": {},
   "source": [
    "Okay, the **Age**, **Cabin** and **Embarked** attributes are sometimes null (less than 891 non-null), especially the **Cabin** (77% are null). We will ignore the **Cabin** for now and focus on the rest. The **Age** attribute has about 19% null values, so we will need to decide what to do with them. Replacing null values with the median age seems reasonable."
   ]
  },
  {
   "cell_type": "markdown",
   "metadata": {},
   "source": [
    "The **Name** and **Ticket** attributes may have some value, but they will be a bit tricky to convert into useful numbers that a model can consume. So for now, we will ignore them."
   ]
  },
  {
   "cell_type": "markdown",
   "metadata": {},
   "source": [
    "Let's take a look at the numerical attributes:"
   ]
  },
  {
   "cell_type": "code",
<<<<<<< HEAD
   "execution_count": 6,
=======
   "execution_count": 299,
>>>>>>> 9394823c3c8bc9a1cb9c3777e1cd3eac92d21b9f
   "metadata": {},
   "outputs": [
    {
     "data": {
      "text/html": [
       "<div>\n",
       "<style scoped>\n",
       "    .dataframe tbody tr th:only-of-type {\n",
       "        vertical-align: middle;\n",
       "    }\n",
       "\n",
       "    .dataframe tbody tr th {\n",
       "        vertical-align: top;\n",
       "    }\n",
       "\n",
       "    .dataframe thead th {\n",
       "        text-align: right;\n",
       "    }\n",
       "</style>\n",
       "<table border=\"1\" class=\"dataframe\">\n",
       "  <thead>\n",
       "    <tr style=\"text-align: right;\">\n",
       "      <th></th>\n",
       "      <th>PassengerId</th>\n",
       "      <th>Survived</th>\n",
       "      <th>Pclass</th>\n",
       "      <th>Age</th>\n",
       "      <th>SibSp</th>\n",
       "      <th>Parch</th>\n",
       "      <th>Fare</th>\n",
       "    </tr>\n",
       "  </thead>\n",
       "  <tbody>\n",
       "    <tr>\n",
       "      <th>count</th>\n",
       "      <td>891.000000</td>\n",
       "      <td>891.000000</td>\n",
       "      <td>891.000000</td>\n",
       "      <td>714.000000</td>\n",
       "      <td>891.000000</td>\n",
       "      <td>891.000000</td>\n",
       "      <td>891.000000</td>\n",
       "    </tr>\n",
       "    <tr>\n",
       "      <th>mean</th>\n",
       "      <td>446.000000</td>\n",
       "      <td>0.383838</td>\n",
       "      <td>2.308642</td>\n",
       "      <td>29.699118</td>\n",
       "      <td>0.523008</td>\n",
       "      <td>0.381594</td>\n",
       "      <td>32.204208</td>\n",
       "    </tr>\n",
       "    <tr>\n",
       "      <th>std</th>\n",
       "      <td>257.353842</td>\n",
       "      <td>0.486592</td>\n",
       "      <td>0.836071</td>\n",
       "      <td>14.526497</td>\n",
       "      <td>1.102743</td>\n",
       "      <td>0.806057</td>\n",
       "      <td>49.693429</td>\n",
       "    </tr>\n",
       "    <tr>\n",
       "      <th>min</th>\n",
       "      <td>1.000000</td>\n",
       "      <td>0.000000</td>\n",
       "      <td>1.000000</td>\n",
       "      <td>0.420000</td>\n",
       "      <td>0.000000</td>\n",
       "      <td>0.000000</td>\n",
       "      <td>0.000000</td>\n",
       "    </tr>\n",
       "    <tr>\n",
       "      <th>25%</th>\n",
       "      <td>223.500000</td>\n",
       "      <td>0.000000</td>\n",
       "      <td>2.000000</td>\n",
       "      <td>20.125000</td>\n",
       "      <td>0.000000</td>\n",
       "      <td>0.000000</td>\n",
       "      <td>7.910400</td>\n",
       "    </tr>\n",
       "    <tr>\n",
       "      <th>50%</th>\n",
       "      <td>446.000000</td>\n",
       "      <td>0.000000</td>\n",
       "      <td>3.000000</td>\n",
       "      <td>28.000000</td>\n",
       "      <td>0.000000</td>\n",
       "      <td>0.000000</td>\n",
       "      <td>14.454200</td>\n",
       "    </tr>\n",
       "    <tr>\n",
       "      <th>75%</th>\n",
       "      <td>668.500000</td>\n",
       "      <td>1.000000</td>\n",
       "      <td>3.000000</td>\n",
       "      <td>38.000000</td>\n",
       "      <td>1.000000</td>\n",
       "      <td>0.000000</td>\n",
       "      <td>31.000000</td>\n",
       "    </tr>\n",
       "    <tr>\n",
       "      <th>max</th>\n",
       "      <td>891.000000</td>\n",
       "      <td>1.000000</td>\n",
       "      <td>3.000000</td>\n",
       "      <td>80.000000</td>\n",
       "      <td>8.000000</td>\n",
       "      <td>6.000000</td>\n",
       "      <td>512.329200</td>\n",
       "    </tr>\n",
       "  </tbody>\n",
       "</table>\n",
       "</div>"
      ],
      "text/plain": [
       "       PassengerId    Survived      Pclass         Age       SibSp  \\\n",
       "count   891.000000  891.000000  891.000000  714.000000  891.000000   \n",
       "mean    446.000000    0.383838    2.308642   29.699118    0.523008   \n",
       "std     257.353842    0.486592    0.836071   14.526497    1.102743   \n",
       "min       1.000000    0.000000    1.000000    0.420000    0.000000   \n",
       "25%     223.500000    0.000000    2.000000   20.125000    0.000000   \n",
       "50%     446.000000    0.000000    3.000000   28.000000    0.000000   \n",
       "75%     668.500000    1.000000    3.000000   38.000000    1.000000   \n",
       "max     891.000000    1.000000    3.000000   80.000000    8.000000   \n",
       "\n",
       "            Parch        Fare  \n",
       "count  891.000000  891.000000  \n",
       "mean     0.381594   32.204208  \n",
       "std      0.806057   49.693429  \n",
       "min      0.000000    0.000000  \n",
       "25%      0.000000    7.910400  \n",
       "50%      0.000000   14.454200  \n",
       "75%      0.000000   31.000000  \n",
       "max      6.000000  512.329200  "
      ]
     },
<<<<<<< HEAD
     "execution_count": 6,
=======
     "execution_count": 299,
>>>>>>> 9394823c3c8bc9a1cb9c3777e1cd3eac92d21b9f
     "metadata": {},
     "output_type": "execute_result"
    }
   ],
   "source": [
    "train_data.describe()"
   ]
  },
  {
   "cell_type": "markdown",
   "metadata": {},
   "source": [
    "* Yikes, only 38% **Survived**. :(  That's close enough to 40%, so accuracy will be a reasonable metric to evaluate our model.\n",
    "* The mean **Fare** was £32.20, which does not seem so expensive (but it was probably a lot of money back then).\n",
    "* The mean **Age** was less than 30 years old."
   ]
  },
  {
   "cell_type": "markdown",
   "metadata": {},
   "source": [
    "Let's check that the target is indeed 0 or 1:"
   ]
  },
  {
   "cell_type": "code",
<<<<<<< HEAD
   "execution_count": 7,
=======
   "execution_count": 300,
>>>>>>> 9394823c3c8bc9a1cb9c3777e1cd3eac92d21b9f
   "metadata": {},
   "outputs": [
    {
     "data": {
      "text/plain": [
       "0    549\n",
       "1    342\n",
       "Name: Survived, dtype: int64"
      ]
     },
<<<<<<< HEAD
     "execution_count": 7,
=======
     "execution_count": 300,
>>>>>>> 9394823c3c8bc9a1cb9c3777e1cd3eac92d21b9f
     "metadata": {},
     "output_type": "execute_result"
    }
   ],
   "source": [
    "train_data[\"Survived\"].value_counts()"
   ]
  },
  {
   "cell_type": "markdown",
   "metadata": {},
   "source": [
    "Now let's take a quick look at all the categorical attributes:"
   ]
  },
  {
   "cell_type": "code",
<<<<<<< HEAD
   "execution_count": 8,
=======
   "execution_count": 301,
>>>>>>> 9394823c3c8bc9a1cb9c3777e1cd3eac92d21b9f
   "metadata": {},
   "outputs": [
    {
     "data": {
      "text/plain": [
       "3    491\n",
       "1    216\n",
       "2    184\n",
       "Name: Pclass, dtype: int64"
      ]
     },
<<<<<<< HEAD
     "execution_count": 8,
=======
     "execution_count": 301,
>>>>>>> 9394823c3c8bc9a1cb9c3777e1cd3eac92d21b9f
     "metadata": {},
     "output_type": "execute_result"
    }
   ],
   "source": [
    "train_data[\"Pclass\"].value_counts()"
   ]
  },
  {
   "cell_type": "code",
<<<<<<< HEAD
   "execution_count": 9,
=======
   "execution_count": 302,
>>>>>>> 9394823c3c8bc9a1cb9c3777e1cd3eac92d21b9f
   "metadata": {},
   "outputs": [
    {
     "data": {
      "text/plain": [
       "male      577\n",
       "female    314\n",
       "Name: Sex, dtype: int64"
      ]
     },
<<<<<<< HEAD
     "execution_count": 9,
=======
     "execution_count": 302,
>>>>>>> 9394823c3c8bc9a1cb9c3777e1cd3eac92d21b9f
     "metadata": {},
     "output_type": "execute_result"
    }
   ],
   "source": [
    "train_data[\"Sex\"].value_counts()"
   ]
  },
  {
   "cell_type": "code",
<<<<<<< HEAD
   "execution_count": 10,
=======
   "execution_count": 303,
>>>>>>> 9394823c3c8bc9a1cb9c3777e1cd3eac92d21b9f
   "metadata": {},
   "outputs": [
    {
     "data": {
      "text/plain": [
       "S    644\n",
       "C    168\n",
       "Q     77\n",
       "Name: Embarked, dtype: int64"
      ]
     },
<<<<<<< HEAD
     "execution_count": 10,
=======
     "execution_count": 303,
>>>>>>> 9394823c3c8bc9a1cb9c3777e1cd3eac92d21b9f
     "metadata": {},
     "output_type": "execute_result"
    }
   ],
   "source": [
    "train_data[\"Embarked\"].value_counts()"
   ]
  },
  {
   "cell_type": "markdown",
   "metadata": {},
   "source": [
    "The Embarked attribute tells us where the passenger embarked: C=Cherbourg, Q=Queenstown, S=Southampton."
   ]
  },
  {
   "cell_type": "markdown",
   "metadata": {},
   "source": [
    "Now let's build our preprocessing pipelines. We will reuse the `DataframeSelector` we built in the previous chapter to select specific attributes from the `DataFrame`:"
   ]
  },
  {
   "cell_type": "code",
<<<<<<< HEAD
   "execution_count": 11,
=======
   "execution_count": 304,
>>>>>>> 9394823c3c8bc9a1cb9c3777e1cd3eac92d21b9f
   "metadata": {},
   "outputs": [],
   "source": [
    "from sklearn.base import BaseEstimator, TransformerMixin\n",
    "\n",
    "# A class to select numerical or categorical columns \n",
    "# since Scikit-Learn doesn't handle DataFrames yet\n",
    "class DataFrameSelector(BaseEstimator, TransformerMixin):\n",
    "    def __init__(self, attribute_names):\n",
    "        self.attribute_names = attribute_names\n",
    "    def fit(self, X, y=None):\n",
    "        return self\n",
    "    def transform(self, X):\n",
    "        return X[self.attribute_names]"
   ]
  },
  {
   "cell_type": "markdown",
   "metadata": {},
   "source": [
    "Let's build the pipeline for the numerical attributes:\n",
    "\n",
    "**Warning**: Since Scikit-Learn 0.20, the `sklearn.preprocessing.Imputer` class was replaced by the `sklearn.impute.SimpleImputer` class."
   ]
  },
  {
   "cell_type": "code",
<<<<<<< HEAD
   "execution_count": 12,
=======
   "execution_count": 305,
>>>>>>> 9394823c3c8bc9a1cb9c3777e1cd3eac92d21b9f
   "metadata": {},
   "outputs": [],
   "source": [
    "from sklearn.pipeline import Pipeline\n",
    "try:\n",
    "    from sklearn.impute import SimpleImputer # Scikit-Learn 0.20+\n",
    "except ImportError:\n",
    "    from sklearn.preprocessing import Imputer as SimpleImputer\n",
    "\n",
    "num_pipeline = Pipeline([\n",
    "        (\"select_numeric\", DataFrameSelector([\"Age\", \"SibSp\", \"Parch\", \"Fare\"])),\n",
    "        (\"imputer\", SimpleImputer(strategy=\"median\")),\n",
    "    ])\n",
    "num_pipeline.fit_transform(train_data)"
   ]
  },
  {
   "cell_type": "code",
<<<<<<< HEAD
   "execution_count": 13,
=======
   "execution_count": 306,
>>>>>>> 9394823c3c8bc9a1cb9c3777e1cd3eac92d21b9f
   "metadata": {},
   "outputs": [
    {
     "data": {
      "text/plain": [
       "array([[22.    ,  1.    ,  0.    ,  7.25  ],\n",
       "       [38.    ,  1.    ,  0.    , 71.2833],\n",
       "       [26.    ,  0.    ,  0.    ,  7.925 ],\n",
       "       ...,\n",
       "       [28.    ,  1.    ,  2.    , 23.45  ],\n",
       "       [26.    ,  0.    ,  0.    , 30.    ],\n",
       "       [32.    ,  0.    ,  0.    ,  7.75  ]])"
      ]
     },
<<<<<<< HEAD
     "execution_count": 13,
=======
     "execution_count": 306,
>>>>>>> 9394823c3c8bc9a1cb9c3777e1cd3eac92d21b9f
     "metadata": {},
     "output_type": "execute_result"
    }
   ],
   "source": []
  },
  {
   "cell_type": "markdown",
   "metadata": {},
   "source": [
    "We will also need an imputer for the string categorical columns (the regular `SimpleImputer` does not work on those):"
   ]
  },
  {
   "cell_type": "code",
<<<<<<< HEAD
   "execution_count": 14,
=======
   "execution_count": 307,
>>>>>>> 9394823c3c8bc9a1cb9c3777e1cd3eac92d21b9f
   "metadata": {},
   "outputs": [],
   "source": [
    "# Inspired from stackoverflow.com/questions/25239958\n",
    "class MostFrequentImputer(BaseEstimator, TransformerMixin):\n",
    "    def fit(self, X, y=None):\n",
    "        self.most_frequent_ = pd.Series([X[c].value_counts().index[0] for c in X],\n",
    "                                        index=X.columns)\n",
    "        return self\n",
    "    def transform(self, X, y=None):\n",
    "        return X.fillna(self.most_frequent_)"
   ]
  },
  {
   "cell_type": "markdown",
   "metadata": {},
   "source": [
    "**Warning**: earlier versions of the book used the `LabelBinarizer` or `CategoricalEncoder` classes to convert each categorical value to a one-hot vector. It is now preferable to use the `OneHotEncoder` class. Since Scikit-Learn 0.20 it can handle string categorical inputs (see [PR #10521](https://github.com/scikit-learn/scikit-learn/issues/10521)), not just integer categorical inputs. If you are using an older version of Scikit-Learn, you can import the new version from `future_encoders.py`:"
   ]
  },
  {
   "cell_type": "code",
<<<<<<< HEAD
   "execution_count": 15,
=======
   "execution_count": 308,
>>>>>>> 9394823c3c8bc9a1cb9c3777e1cd3eac92d21b9f
   "metadata": {},
   "outputs": [],
   "source": [
    "try:\n",
    "    from sklearn.preprocessing import OrdinalEncoder # just to raise an ImportError if Scikit-Learn < 0.20\n",
    "    from sklearn.preprocessing import OneHotEncoder\n",
    "except ImportError:\n",
    "    from future_encoders import OneHotEncoder # Scikit-Learn < 0.20"
   ]
  },
  {
   "cell_type": "markdown",
   "metadata": {},
   "source": [
    "Now we can build the pipeline for the categorical attributes:"
   ]
  },
  {
   "cell_type": "code",
<<<<<<< HEAD
   "execution_count": 16,
=======
   "execution_count": 309,
>>>>>>> 9394823c3c8bc9a1cb9c3777e1cd3eac92d21b9f
   "metadata": {},
   "outputs": [],
   "source": [
    "cat_pipeline = Pipeline([\n",
    "        (\"select_cat\", DataFrameSelector([\"Pclass\", \"Sex\", \"Embarked\"])),\n",
    "        (\"imputer\", MostFrequentImputer()),\n",
    "        (\"cat_encoder\", OneHotEncoder(sparse=False)),\n",
    "    ])"
   ]
  },
  {
   "cell_type": "code",
<<<<<<< HEAD
   "execution_count": 17,
=======
   "execution_count": 310,
>>>>>>> 9394823c3c8bc9a1cb9c3777e1cd3eac92d21b9f
   "metadata": {},
   "outputs": [
    {
     "data": {
      "text/plain": [
       "array([[0., 0., 1., ..., 0., 0., 1.],\n",
       "       [1., 0., 0., ..., 1., 0., 0.],\n",
       "       [0., 0., 1., ..., 0., 0., 1.],\n",
       "       ...,\n",
       "       [0., 0., 1., ..., 0., 0., 1.],\n",
       "       [1., 0., 0., ..., 1., 0., 0.],\n",
       "       [0., 0., 1., ..., 0., 1., 0.]])"
      ]
     },
<<<<<<< HEAD
     "execution_count": 17,
=======
     "execution_count": 310,
>>>>>>> 9394823c3c8bc9a1cb9c3777e1cd3eac92d21b9f
     "metadata": {},
     "output_type": "execute_result"
    }
   ],
   "source": [
    "cat_pipeline.fit_transform(train_data)"
   ]
  },
  {
   "cell_type": "markdown",
   "metadata": {},
   "source": [
    "Finally, let's join the numerical and categorical pipelines:"
   ]
  },
  {
   "cell_type": "code",
<<<<<<< HEAD
   "execution_count": 18,
=======
   "execution_count": 311,
>>>>>>> 9394823c3c8bc9a1cb9c3777e1cd3eac92d21b9f
   "metadata": {},
   "outputs": [],
   "source": [
    "from sklearn.pipeline import FeatureUnion\n",
    "preprocess_pipeline = FeatureUnion(transformer_list=[\n",
    "        (\"num_pipeline\", num_pipeline),\n",
    "        (\"cat_pipeline\", cat_pipeline),\n",
    "    ])"
   ]
  },
  {
   "cell_type": "markdown",
   "metadata": {},
   "source": [
    "Cool! Now we have a nice preprocessing pipeline that takes the raw data and outputs numerical input features that we can feed to any Machine Learning model we want."
   ]
  },
  {
   "cell_type": "code",
<<<<<<< HEAD
   "execution_count": 19,
=======
   "execution_count": 312,
>>>>>>> 9394823c3c8bc9a1cb9c3777e1cd3eac92d21b9f
   "metadata": {},
   "outputs": [
    {
     "data": {
      "text/plain": [
       "array([[22.,  1.,  0., ...,  0.,  0.,  1.],\n",
       "       [38.,  1.,  0., ...,  1.,  0.,  0.],\n",
       "       [26.,  0.,  0., ...,  0.,  0.,  1.],\n",
       "       ...,\n",
       "       [28.,  1.,  2., ...,  0.,  0.,  1.],\n",
       "       [26.,  0.,  0., ...,  1.,  0.,  0.],\n",
       "       [32.,  0.,  0., ...,  0.,  1.,  0.]])"
      ]
     },
<<<<<<< HEAD
     "execution_count": 19,
=======
     "execution_count": 312,
>>>>>>> 9394823c3c8bc9a1cb9c3777e1cd3eac92d21b9f
     "metadata": {},
     "output_type": "execute_result"
    }
   ],
   "source": [
    "X_train = preprocess_pipeline.fit_transform(train_data)\n",
    "X_train"
   ]
  },
  {
   "cell_type": "markdown",
   "metadata": {},
   "source": [
    "Let's not forget to get the labels:"
   ]
  },
  {
   "cell_type": "code",
<<<<<<< HEAD
   "execution_count": 20,
=======
   "execution_count": 313,
>>>>>>> 9394823c3c8bc9a1cb9c3777e1cd3eac92d21b9f
   "metadata": {},
   "outputs": [],
   "source": [
    "y_train = train_data[\"Survived\"]"
   ]
  },
  {
   "cell_type": "markdown",
   "metadata": {},
   "source": [
    "We are now ready to train a classifier. Let's start with an `SVC`:"
   ]
  },
  {
   "cell_type": "code",
<<<<<<< HEAD
   "execution_count": 21,
=======
   "execution_count": 314,
>>>>>>> 9394823c3c8bc9a1cb9c3777e1cd3eac92d21b9f
   "metadata": {},
   "outputs": [
    {
     "data": {
      "text/plain": [
       "SVC(C=1.0, cache_size=200, class_weight=None, coef0=0.0,\n",
       "    decision_function_shape='ovr', degree=3, gamma='auto', kernel='rbf',\n",
       "    max_iter=-1, probability=False, random_state=None, shrinking=True,\n",
       "    tol=0.001, verbose=False)"
      ]
     },
<<<<<<< HEAD
     "execution_count": 21,
=======
     "execution_count": 314,
>>>>>>> 9394823c3c8bc9a1cb9c3777e1cd3eac92d21b9f
     "metadata": {},
     "output_type": "execute_result"
    }
   ],
   "source": [
    "from sklearn.svm import SVC\n",
    "\n",
    "svm_clf = SVC(gamma=\"auto\")\n",
    "svm_clf.fit(X_train, y_train)"
   ]
  },
  {
   "cell_type": "markdown",
   "metadata": {},
   "source": [
    "Great, our model is trained, let's use it to make predictions on the test set:"
   ]
  },
  {
   "cell_type": "code",
<<<<<<< HEAD
   "execution_count": 22,
=======
   "execution_count": 315,
>>>>>>> 9394823c3c8bc9a1cb9c3777e1cd3eac92d21b9f
   "metadata": {},
   "outputs": [],
   "source": [
    "X_test = preprocess_pipeline.transform(test_data)\n",
    "y_pred = svm_clf.predict(X_test)"
   ]
  },
  {
   "cell_type": "markdown",
   "metadata": {},
   "source": [
    "And now we could just build a CSV file with these predictions (respecting the format excepted by Kaggle), then upload it and hope for the best. But wait! We can do better than hope. Why don't we use cross-validation to have an idea of how good our model is?"
   ]
  },
  {
   "cell_type": "code",
<<<<<<< HEAD
   "execution_count": 23,
=======
   "execution_count": 316,
>>>>>>> 9394823c3c8bc9a1cb9c3777e1cd3eac92d21b9f
   "metadata": {},
   "outputs": [
    {
     "data": {
      "text/plain": [
       "0.7365250822835092"
      ]
     },
<<<<<<< HEAD
     "execution_count": 23,
=======
     "execution_count": 316,
>>>>>>> 9394823c3c8bc9a1cb9c3777e1cd3eac92d21b9f
     "metadata": {},
     "output_type": "execute_result"
    }
   ],
   "source": [
    "from sklearn.model_selection import cross_val_score\n",
    "\n",
    "svm_scores = cross_val_score(svm_clf, X_train, y_train, cv=10)\n",
    "svm_scores.mean()"
   ]
  },
  {
   "cell_type": "markdown",
   "metadata": {},
   "source": [
    "Okay, over 73% accuracy, clearly better than random chance, but it's not a great score. Looking at the [leaderboard](https://www.kaggle.com/c/titanic/leaderboard) for the Titanic competition on Kaggle, you can see that you need to reach above 80% accuracy to be within the top 10% Kagglers. Some reached 100%, but since you can easily find the [list of victims](https://www.encyclopedia-titanica.org/titanic-victims/) of the Titanic, it seems likely that there was little Machine Learning involved in their performance! ;-) So let's try to build a model that reaches 80% accuracy."
   ]
  },
  {
   "cell_type": "markdown",
   "metadata": {},
   "source": [
    "Let's try a `RandomForestClassifier`:"
   ]
  },
  {
   "cell_type": "code",
<<<<<<< HEAD
   "execution_count": 24,
=======
   "execution_count": 317,
>>>>>>> 9394823c3c8bc9a1cb9c3777e1cd3eac92d21b9f
   "metadata": {},
   "outputs": [
    {
     "data": {
      "text/plain": [
       "0.8149526160481217"
      ]
     },
<<<<<<< HEAD
     "execution_count": 24,
=======
     "execution_count": 317,
>>>>>>> 9394823c3c8bc9a1cb9c3777e1cd3eac92d21b9f
     "metadata": {},
     "output_type": "execute_result"
    }
   ],
   "source": [
    "from sklearn.ensemble import RandomForestClassifier\n",
    "\n",
    "forest_clf = RandomForestClassifier(n_estimators=100, random_state=42)\n",
    "forest_scores = cross_val_score(forest_clf, X_train, y_train, cv=10)\n",
    "forest_scores.mean()"
   ]
  },
  {
   "cell_type": "markdown",
   "metadata": {},
   "source": [
    "That's much better!"
   ]
  },
  {
   "cell_type": "markdown",
   "metadata": {},
   "source": [
    "Instead of just looking at the mean accuracy across the 10 cross-validation folds, let's plot all 10 scores for each model, along with a box plot highlighting the lower and upper quartiles, and \"whiskers\" showing the extent of the scores (thanks to Nevin Yilmaz for suggesting this visualization). Note that the `boxplot()` function detects outliers (called \"fliers\") and does not include them within the whiskers. Specifically, if the lower quartile is $Q_1$ and the upper quartile is $Q_3$, then the interquartile range $IQR = Q_3 - Q_1$ (this is the box's height), and any score lower than $Q_1 - 1.5 \\times IQR$ is a flier, and so is any score greater than $Q3 + 1.5 \\times IQR$."
   ]
  },
  {
   "cell_type": "code",
<<<<<<< HEAD
   "execution_count": 25,
=======
   "execution_count": 318,
>>>>>>> 9394823c3c8bc9a1cb9c3777e1cd3eac92d21b9f
   "metadata": {},
   "outputs": [
    {
     "data": {
      "image/png": "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\n",
      "text/plain": [
       "<Figure size 576x288 with 1 Axes>"
      ]
     },
     "metadata": {
      "needs_background": "light"
     },
     "output_type": "display_data"
    }
   ],
   "source": [
    "plt.figure(figsize=(8, 4))\n",
    "plt.plot([1]*10, svm_scores, \".\")\n",
    "plt.plot([2]*10, forest_scores, \".\")\n",
    "plt.boxplot([svm_scores, forest_scores], labels=(\"SVM\",\"Random Forest\"))\n",
    "plt.ylabel(\"Accuracy\", fontsize=14)\n",
    "plt.show()"
   ]
  },
  {
   "cell_type": "markdown",
   "metadata": {},
   "source": [
    "To improve this result further, you could:\n",
    "* Compare many more models and tune hyperparameters using cross validation and grid search,\n",
    "* Do more feature engineering, for example:\n",
    "  * replace **SibSp** and **Parch** with their sum,\n",
    "  * try to identify parts of names that correlate well with the **Survived** attribute (e.g. if the name contains \"Countess\", then survival seems more likely),\n",
    "* try to convert numerical attributes to categorical attributes: for example, different age groups had very different survival rates (see below), so it may help to create an age bucket category and use it instead of the age. Similarly, it may be useful to have a special category for people traveling alone since only 30% of them survived (see below)."
   ]
  },
  {
   "cell_type": "code",
<<<<<<< HEAD
   "execution_count": 26,
=======
   "execution_count": 319,
>>>>>>> 9394823c3c8bc9a1cb9c3777e1cd3eac92d21b9f
   "metadata": {},
   "outputs": [
    {
     "data": {
      "text/html": [
       "<div>\n",
       "<style scoped>\n",
       "    .dataframe tbody tr th:only-of-type {\n",
       "        vertical-align: middle;\n",
       "    }\n",
       "\n",
       "    .dataframe tbody tr th {\n",
       "        vertical-align: top;\n",
       "    }\n",
       "\n",
       "    .dataframe thead th {\n",
       "        text-align: right;\n",
       "    }\n",
       "</style>\n",
       "<table border=\"1\" class=\"dataframe\">\n",
       "  <thead>\n",
       "    <tr style=\"text-align: right;\">\n",
       "      <th></th>\n",
       "      <th>Survived</th>\n",
       "    </tr>\n",
       "    <tr>\n",
       "      <th>AgeBucket</th>\n",
       "      <th></th>\n",
       "    </tr>\n",
       "  </thead>\n",
       "  <tbody>\n",
       "    <tr>\n",
       "      <th>0.0</th>\n",
       "      <td>0.576923</td>\n",
       "    </tr>\n",
       "    <tr>\n",
       "      <th>15.0</th>\n",
       "      <td>0.362745</td>\n",
       "    </tr>\n",
       "    <tr>\n",
       "      <th>30.0</th>\n",
       "      <td>0.423256</td>\n",
       "    </tr>\n",
       "    <tr>\n",
       "      <th>45.0</th>\n",
       "      <td>0.404494</td>\n",
       "    </tr>\n",
       "    <tr>\n",
       "      <th>60.0</th>\n",
       "      <td>0.240000</td>\n",
       "    </tr>\n",
       "    <tr>\n",
       "      <th>75.0</th>\n",
       "      <td>1.000000</td>\n",
       "    </tr>\n",
       "  </tbody>\n",
       "</table>\n",
       "</div>"
      ],
      "text/plain": [
       "           Survived\n",
       "AgeBucket          \n",
       "0.0        0.576923\n",
       "15.0       0.362745\n",
       "30.0       0.423256\n",
       "45.0       0.404494\n",
       "60.0       0.240000\n",
       "75.0       1.000000"
      ]
     },
<<<<<<< HEAD
     "execution_count": 26,
=======
     "execution_count": 319,
>>>>>>> 9394823c3c8bc9a1cb9c3777e1cd3eac92d21b9f
     "metadata": {},
     "output_type": "execute_result"
    }
   ],
   "source": [
    "train_data[\"AgeBucket\"] = train_data[\"Age\"] // 15 * 15\n",
    "train_data[[\"AgeBucket\", \"Survived\"]].groupby(['AgeBucket']).mean()"
   ]
  },
  {
   "cell_type": "code",
<<<<<<< HEAD
   "execution_count": 27,
=======
   "execution_count": 320,
>>>>>>> 9394823c3c8bc9a1cb9c3777e1cd3eac92d21b9f
   "metadata": {},
   "outputs": [
    {
     "data": {
      "text/html": [
       "<div>\n",
       "<style scoped>\n",
       "    .dataframe tbody tr th:only-of-type {\n",
       "        vertical-align: middle;\n",
       "    }\n",
       "\n",
       "    .dataframe tbody tr th {\n",
       "        vertical-align: top;\n",
       "    }\n",
       "\n",
       "    .dataframe thead th {\n",
       "        text-align: right;\n",
       "    }\n",
       "</style>\n",
       "<table border=\"1\" class=\"dataframe\">\n",
       "  <thead>\n",
       "    <tr style=\"text-align: right;\">\n",
       "      <th></th>\n",
       "      <th>Survived</th>\n",
       "    </tr>\n",
       "    <tr>\n",
       "      <th>RelativesOnboard</th>\n",
       "      <th></th>\n",
       "    </tr>\n",
       "  </thead>\n",
       "  <tbody>\n",
       "    <tr>\n",
       "      <th>0</th>\n",
       "      <td>0.303538</td>\n",
       "    </tr>\n",
       "    <tr>\n",
       "      <th>1</th>\n",
       "      <td>0.552795</td>\n",
       "    </tr>\n",
       "    <tr>\n",
       "      <th>2</th>\n",
       "      <td>0.578431</td>\n",
       "    </tr>\n",
       "    <tr>\n",
       "      <th>3</th>\n",
       "      <td>0.724138</td>\n",
       "    </tr>\n",
       "    <tr>\n",
       "      <th>4</th>\n",
       "      <td>0.200000</td>\n",
       "    </tr>\n",
       "    <tr>\n",
       "      <th>5</th>\n",
       "      <td>0.136364</td>\n",
       "    </tr>\n",
       "    <tr>\n",
       "      <th>6</th>\n",
       "      <td>0.333333</td>\n",
       "    </tr>\n",
       "    <tr>\n",
       "      <th>7</th>\n",
       "      <td>0.000000</td>\n",
       "    </tr>\n",
       "    <tr>\n",
       "      <th>10</th>\n",
       "      <td>0.000000</td>\n",
       "    </tr>\n",
       "  </tbody>\n",
       "</table>\n",
       "</div>"
      ],
      "text/plain": [
       "                  Survived\n",
       "RelativesOnboard          \n",
       "0                 0.303538\n",
       "1                 0.552795\n",
       "2                 0.578431\n",
       "3                 0.724138\n",
       "4                 0.200000\n",
       "5                 0.136364\n",
       "6                 0.333333\n",
       "7                 0.000000\n",
       "10                0.000000"
      ]
     },
<<<<<<< HEAD
     "execution_count": 27,
=======
     "execution_count": 320,
>>>>>>> 9394823c3c8bc9a1cb9c3777e1cd3eac92d21b9f
     "metadata": {},
     "output_type": "execute_result"
    }
   ],
   "source": [
    "train_data[\"RelativesOnboard\"] = train_data[\"SibSp\"] + train_data[\"Parch\"]\n",
    "train_data[[\"RelativesOnboard\", \"Survived\"]].groupby(['RelativesOnboard']).mean()"
   ]
  },
  {
   "cell_type": "markdown",
   "metadata": {},
   "source": [
    "# OUR WORK"
   ]
  },
  {
   "cell_type": "code",
<<<<<<< HEAD
   "execution_count": 28,
=======
   "execution_count": 321,
>>>>>>> 9394823c3c8bc9a1cb9c3777e1cd3eac92d21b9f
   "metadata": {},
   "outputs": [
    {
     "data": {
      "text/plain": [
<<<<<<< HEAD
       "<matplotlib.axes._subplots.AxesSubplot at 0x1389cce77f0>"
      ]
     },
     "execution_count": 28,
=======
       "<matplotlib.axes._subplots.AxesSubplot at 0x1a25feff50>"
      ]
     },
     "execution_count": 321,
>>>>>>> 9394823c3c8bc9a1cb9c3777e1cd3eac92d21b9f
     "metadata": {},
     "output_type": "execute_result"
    },
    {
     "data": {
      "image/png": "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\n",
      "text/plain": [
       "<Figure size 432x288 with 2 Axes>"
      ]
     },
     "metadata": {
      "needs_background": "light"
     },
     "output_type": "display_data"
    }
   ],
   "source": [
    "import seaborn as sns \n",
    "# compute the pair wise correlation for all columns  \n",
    "correlation_matrix = train_data.corr().round(2)\n",
    "\n",
    "\n",
    "# use the heatmap function from seaborn to plot the correlation matrix\n",
    "# annot = True to print the values inside the square\n",
    "sns.heatmap(data=correlation_matrix, annot=True)"
   ]
  },
  {
   "cell_type": "code",
<<<<<<< HEAD
   "execution_count": 29,
=======
   "execution_count": 322,
>>>>>>> 9394823c3c8bc9a1cb9c3777e1cd3eac92d21b9f
   "metadata": {},
   "outputs": [
    {
     "data": {
      "text/plain": [
       "PassengerId        -0.01\n",
       "Survived            1.00\n",
       "Pclass             -0.34\n",
       "Age                -0.08\n",
       "SibSp              -0.04\n",
       "Parch               0.08\n",
       "Fare                0.26\n",
       "AgeBucket          -0.06\n",
       "RelativesOnboard    0.02\n",
       "Name: Survived, dtype: float64"
      ]
     },
<<<<<<< HEAD
     "execution_count": 29,
=======
     "execution_count": 322,
>>>>>>> 9394823c3c8bc9a1cb9c3777e1cd3eac92d21b9f
     "metadata": {},
     "output_type": "execute_result"
    }
   ],
   "source": [
    "correlation_matrix[\"Survived\"]"
   ]
  },
  {
   "cell_type": "code",
<<<<<<< HEAD
   "execution_count": 30,
=======
   "execution_count": 323,
>>>>>>> 9394823c3c8bc9a1cb9c3777e1cd3eac92d21b9f
   "metadata": {},
   "outputs": [
    {
     "name": "stdout",
     "output_type": "stream",
     "text": [
      "% of women who survived:  0.7420382165605095\n"
     ]
    }
   ],
   "source": [
    "women = train_data.loc[train_data.Sex == 'female'][\"Survived\"]\n",
    "rate_women = sum(women)/len(women)\n",
    "print(\"% of women who survived: \", rate_women)"
   ]
  },
  {
   "cell_type": "code",
<<<<<<< HEAD
   "execution_count": 31,
=======
   "execution_count": 324,
>>>>>>> 9394823c3c8bc9a1cb9c3777e1cd3eac92d21b9f
   "metadata": {},
   "outputs": [],
   "source": [
    "train_data[\"Women\"] = train_data.Sex == 'female'"
   ]
  },
  {
   "cell_type": "code",
<<<<<<< HEAD
   "execution_count": 32,
=======
   "execution_count": 325,
>>>>>>> 9394823c3c8bc9a1cb9c3777e1cd3eac92d21b9f
   "metadata": {},
   "outputs": [
    {
     "data": {
      "text/html": [
       "<div>\n",
       "<style scoped>\n",
       "    .dataframe tbody tr th:only-of-type {\n",
       "        vertical-align: middle;\n",
       "    }\n",
       "\n",
       "    .dataframe tbody tr th {\n",
       "        vertical-align: top;\n",
       "    }\n",
       "\n",
       "    .dataframe thead th {\n",
       "        text-align: right;\n",
       "    }\n",
       "</style>\n",
       "<table border=\"1\" class=\"dataframe\">\n",
       "  <thead>\n",
       "    <tr style=\"text-align: right;\">\n",
       "      <th></th>\n",
       "      <th>PassengerId</th>\n",
       "      <th>Survived</th>\n",
       "      <th>Pclass</th>\n",
       "      <th>Name</th>\n",
       "      <th>Sex</th>\n",
       "      <th>Age</th>\n",
       "      <th>SibSp</th>\n",
       "      <th>Parch</th>\n",
       "      <th>Ticket</th>\n",
       "      <th>Fare</th>\n",
       "      <th>Cabin</th>\n",
       "      <th>Embarked</th>\n",
       "      <th>AgeBucket</th>\n",
       "      <th>RelativesOnboard</th>\n",
       "      <th>Women</th>\n",
       "    </tr>\n",
       "  </thead>\n",
       "  <tbody>\n",
       "    <tr>\n",
       "      <th>0</th>\n",
       "      <td>1</td>\n",
       "      <td>0</td>\n",
       "      <td>3</td>\n",
       "      <td>Braund, Mr. Owen Harris</td>\n",
       "      <td>male</td>\n",
       "      <td>22.0</td>\n",
       "      <td>1</td>\n",
       "      <td>0</td>\n",
       "      <td>A/5 21171</td>\n",
       "      <td>7.2500</td>\n",
       "      <td>NaN</td>\n",
       "      <td>S</td>\n",
       "      <td>15.0</td>\n",
       "      <td>1</td>\n",
       "      <td>False</td>\n",
       "    </tr>\n",
       "    <tr>\n",
       "      <th>1</th>\n",
       "      <td>2</td>\n",
       "      <td>1</td>\n",
       "      <td>1</td>\n",
       "      <td>Cumings, Mrs. John Bradley (Florence Briggs Th...</td>\n",
       "      <td>female</td>\n",
       "      <td>38.0</td>\n",
       "      <td>1</td>\n",
       "      <td>0</td>\n",
       "      <td>PC 17599</td>\n",
       "      <td>71.2833</td>\n",
       "      <td>C85</td>\n",
       "      <td>C</td>\n",
       "      <td>30.0</td>\n",
       "      <td>1</td>\n",
       "      <td>True</td>\n",
       "    </tr>\n",
       "    <tr>\n",
       "      <th>2</th>\n",
       "      <td>3</td>\n",
       "      <td>1</td>\n",
       "      <td>3</td>\n",
       "      <td>Heikkinen, Miss. Laina</td>\n",
       "      <td>female</td>\n",
       "      <td>26.0</td>\n",
       "      <td>0</td>\n",
       "      <td>0</td>\n",
       "      <td>STON/O2. 3101282</td>\n",
       "      <td>7.9250</td>\n",
       "      <td>NaN</td>\n",
       "      <td>S</td>\n",
       "      <td>15.0</td>\n",
       "      <td>0</td>\n",
       "      <td>True</td>\n",
       "    </tr>\n",
       "    <tr>\n",
       "      <th>3</th>\n",
       "      <td>4</td>\n",
       "      <td>1</td>\n",
       "      <td>1</td>\n",
       "      <td>Futrelle, Mrs. Jacques Heath (Lily May Peel)</td>\n",
       "      <td>female</td>\n",
       "      <td>35.0</td>\n",
       "      <td>1</td>\n",
       "      <td>0</td>\n",
       "      <td>113803</td>\n",
       "      <td>53.1000</td>\n",
       "      <td>C123</td>\n",
       "      <td>S</td>\n",
       "      <td>30.0</td>\n",
       "      <td>1</td>\n",
       "      <td>True</td>\n",
       "    </tr>\n",
       "    <tr>\n",
       "      <th>4</th>\n",
       "      <td>5</td>\n",
       "      <td>0</td>\n",
       "      <td>3</td>\n",
       "      <td>Allen, Mr. William Henry</td>\n",
       "      <td>male</td>\n",
       "      <td>35.0</td>\n",
       "      <td>0</td>\n",
       "      <td>0</td>\n",
       "      <td>373450</td>\n",
       "      <td>8.0500</td>\n",
       "      <td>NaN</td>\n",
       "      <td>S</td>\n",
       "      <td>30.0</td>\n",
       "      <td>0</td>\n",
       "      <td>False</td>\n",
       "    </tr>\n",
       "    <tr>\n",
       "      <th>5</th>\n",
       "      <td>6</td>\n",
       "      <td>0</td>\n",
       "      <td>3</td>\n",
       "      <td>Moran, Mr. James</td>\n",
       "      <td>male</td>\n",
       "      <td>NaN</td>\n",
       "      <td>0</td>\n",
       "      <td>0</td>\n",
       "      <td>330877</td>\n",
       "      <td>8.4583</td>\n",
       "      <td>NaN</td>\n",
       "      <td>Q</td>\n",
       "      <td>NaN</td>\n",
       "      <td>0</td>\n",
       "      <td>False</td>\n",
       "    </tr>\n",
       "    <tr>\n",
       "      <th>6</th>\n",
       "      <td>7</td>\n",
       "      <td>0</td>\n",
       "      <td>1</td>\n",
       "      <td>McCarthy, Mr. Timothy J</td>\n",
       "      <td>male</td>\n",
       "      <td>54.0</td>\n",
       "      <td>0</td>\n",
       "      <td>0</td>\n",
       "      <td>17463</td>\n",
       "      <td>51.8625</td>\n",
       "      <td>E46</td>\n",
       "      <td>S</td>\n",
       "      <td>45.0</td>\n",
       "      <td>0</td>\n",
       "      <td>False</td>\n",
       "    </tr>\n",
       "    <tr>\n",
       "      <th>7</th>\n",
       "      <td>8</td>\n",
       "      <td>0</td>\n",
       "      <td>3</td>\n",
       "      <td>Palsson, Master. Gosta Leonard</td>\n",
       "      <td>male</td>\n",
       "      <td>2.0</td>\n",
       "      <td>3</td>\n",
       "      <td>1</td>\n",
       "      <td>349909</td>\n",
       "      <td>21.0750</td>\n",
       "      <td>NaN</td>\n",
       "      <td>S</td>\n",
       "      <td>0.0</td>\n",
       "      <td>4</td>\n",
       "      <td>False</td>\n",
       "    </tr>\n",
       "    <tr>\n",
       "      <th>8</th>\n",
       "      <td>9</td>\n",
       "      <td>1</td>\n",
       "      <td>3</td>\n",
       "      <td>Johnson, Mrs. Oscar W (Elisabeth Vilhelmina Berg)</td>\n",
       "      <td>female</td>\n",
       "      <td>27.0</td>\n",
       "      <td>0</td>\n",
       "      <td>2</td>\n",
       "      <td>347742</td>\n",
       "      <td>11.1333</td>\n",
       "      <td>NaN</td>\n",
       "      <td>S</td>\n",
       "      <td>15.0</td>\n",
       "      <td>2</td>\n",
       "      <td>True</td>\n",
       "    </tr>\n",
       "    <tr>\n",
       "      <th>9</th>\n",
       "      <td>10</td>\n",
       "      <td>1</td>\n",
       "      <td>2</td>\n",
       "      <td>Nasser, Mrs. Nicholas (Adele Achem)</td>\n",
       "      <td>female</td>\n",
       "      <td>14.0</td>\n",
       "      <td>1</td>\n",
       "      <td>0</td>\n",
       "      <td>237736</td>\n",
       "      <td>30.0708</td>\n",
       "      <td>NaN</td>\n",
       "      <td>C</td>\n",
       "      <td>0.0</td>\n",
       "      <td>1</td>\n",
       "      <td>True</td>\n",
       "    </tr>\n",
       "    <tr>\n",
       "      <th>10</th>\n",
       "      <td>11</td>\n",
       "      <td>1</td>\n",
       "      <td>3</td>\n",
       "      <td>Sandstrom, Miss. Marguerite Rut</td>\n",
       "      <td>female</td>\n",
       "      <td>4.0</td>\n",
       "      <td>1</td>\n",
       "      <td>1</td>\n",
       "      <td>PP 9549</td>\n",
       "      <td>16.7000</td>\n",
       "      <td>G6</td>\n",
       "      <td>S</td>\n",
       "      <td>0.0</td>\n",
       "      <td>2</td>\n",
       "      <td>True</td>\n",
       "    </tr>\n",
       "    <tr>\n",
       "      <th>11</th>\n",
       "      <td>12</td>\n",
       "      <td>1</td>\n",
       "      <td>1</td>\n",
       "      <td>Bonnell, Miss. Elizabeth</td>\n",
       "      <td>female</td>\n",
       "      <td>58.0</td>\n",
       "      <td>0</td>\n",
       "      <td>0</td>\n",
       "      <td>113783</td>\n",
       "      <td>26.5500</td>\n",
       "      <td>C103</td>\n",
       "      <td>S</td>\n",
       "      <td>45.0</td>\n",
       "      <td>0</td>\n",
       "      <td>True</td>\n",
       "    </tr>\n",
       "    <tr>\n",
       "      <th>12</th>\n",
       "      <td>13</td>\n",
       "      <td>0</td>\n",
       "      <td>3</td>\n",
       "      <td>Saundercock, Mr. William Henry</td>\n",
       "      <td>male</td>\n",
       "      <td>20.0</td>\n",
       "      <td>0</td>\n",
       "      <td>0</td>\n",
       "      <td>A/5. 2151</td>\n",
       "      <td>8.0500</td>\n",
       "      <td>NaN</td>\n",
       "      <td>S</td>\n",
       "      <td>15.0</td>\n",
       "      <td>0</td>\n",
       "      <td>False</td>\n",
       "    </tr>\n",
       "    <tr>\n",
       "      <th>13</th>\n",
       "      <td>14</td>\n",
       "      <td>0</td>\n",
       "      <td>3</td>\n",
       "      <td>Andersson, Mr. Anders Johan</td>\n",
       "      <td>male</td>\n",
       "      <td>39.0</td>\n",
       "      <td>1</td>\n",
       "      <td>5</td>\n",
       "      <td>347082</td>\n",
       "      <td>31.2750</td>\n",
       "      <td>NaN</td>\n",
       "      <td>S</td>\n",
       "      <td>30.0</td>\n",
       "      <td>6</td>\n",
       "      <td>False</td>\n",
       "    </tr>\n",
       "    <tr>\n",
       "      <th>14</th>\n",
       "      <td>15</td>\n",
       "      <td>0</td>\n",
       "      <td>3</td>\n",
       "      <td>Vestrom, Miss. Hulda Amanda Adolfina</td>\n",
       "      <td>female</td>\n",
       "      <td>14.0</td>\n",
       "      <td>0</td>\n",
       "      <td>0</td>\n",
       "      <td>350406</td>\n",
       "      <td>7.8542</td>\n",
       "      <td>NaN</td>\n",
       "      <td>S</td>\n",
       "      <td>0.0</td>\n",
       "      <td>0</td>\n",
       "      <td>True</td>\n",
       "    </tr>\n",
       "    <tr>\n",
       "      <th>15</th>\n",
       "      <td>16</td>\n",
       "      <td>1</td>\n",
       "      <td>2</td>\n",
       "      <td>Hewlett, Mrs. (Mary D Kingcome)</td>\n",
       "      <td>female</td>\n",
       "      <td>55.0</td>\n",
       "      <td>0</td>\n",
       "      <td>0</td>\n",
       "      <td>248706</td>\n",
       "      <td>16.0000</td>\n",
       "      <td>NaN</td>\n",
       "      <td>S</td>\n",
       "      <td>45.0</td>\n",
       "      <td>0</td>\n",
       "      <td>True</td>\n",
       "    </tr>\n",
       "    <tr>\n",
       "      <th>16</th>\n",
       "      <td>17</td>\n",
       "      <td>0</td>\n",
       "      <td>3</td>\n",
       "      <td>Rice, Master. Eugene</td>\n",
       "      <td>male</td>\n",
       "      <td>2.0</td>\n",
       "      <td>4</td>\n",
       "      <td>1</td>\n",
       "      <td>382652</td>\n",
       "      <td>29.1250</td>\n",
       "      <td>NaN</td>\n",
       "      <td>Q</td>\n",
       "      <td>0.0</td>\n",
       "      <td>5</td>\n",
       "      <td>False</td>\n",
       "    </tr>\n",
       "    <tr>\n",
       "      <th>17</th>\n",
       "      <td>18</td>\n",
       "      <td>1</td>\n",
       "      <td>2</td>\n",
       "      <td>Williams, Mr. Charles Eugene</td>\n",
       "      <td>male</td>\n",
       "      <td>NaN</td>\n",
       "      <td>0</td>\n",
       "      <td>0</td>\n",
       "      <td>244373</td>\n",
       "      <td>13.0000</td>\n",
       "      <td>NaN</td>\n",
       "      <td>S</td>\n",
       "      <td>NaN</td>\n",
       "      <td>0</td>\n",
       "      <td>False</td>\n",
       "    </tr>\n",
       "    <tr>\n",
       "      <th>18</th>\n",
       "      <td>19</td>\n",
       "      <td>0</td>\n",
       "      <td>3</td>\n",
       "      <td>Vander Planke, Mrs. Julius (Emelia Maria Vande...</td>\n",
       "      <td>female</td>\n",
       "      <td>31.0</td>\n",
       "      <td>1</td>\n",
       "      <td>0</td>\n",
       "      <td>345763</td>\n",
       "      <td>18.0000</td>\n",
       "      <td>NaN</td>\n",
       "      <td>S</td>\n",
       "      <td>30.0</td>\n",
       "      <td>1</td>\n",
       "      <td>True</td>\n",
       "    </tr>\n",
       "    <tr>\n",
       "      <th>19</th>\n",
       "      <td>20</td>\n",
       "      <td>1</td>\n",
       "      <td>3</td>\n",
       "      <td>Masselmani, Mrs. Fatima</td>\n",
       "      <td>female</td>\n",
       "      <td>NaN</td>\n",
       "      <td>0</td>\n",
       "      <td>0</td>\n",
       "      <td>2649</td>\n",
       "      <td>7.2250</td>\n",
       "      <td>NaN</td>\n",
       "      <td>C</td>\n",
       "      <td>NaN</td>\n",
       "      <td>0</td>\n",
       "      <td>True</td>\n",
       "    </tr>\n",
       "    <tr>\n",
       "      <th>20</th>\n",
       "      <td>21</td>\n",
       "      <td>0</td>\n",
       "      <td>2</td>\n",
       "      <td>Fynney, Mr. Joseph J</td>\n",
       "      <td>male</td>\n",
       "      <td>35.0</td>\n",
       "      <td>0</td>\n",
       "      <td>0</td>\n",
       "      <td>239865</td>\n",
       "      <td>26.0000</td>\n",
       "      <td>NaN</td>\n",
       "      <td>S</td>\n",
       "      <td>30.0</td>\n",
       "      <td>0</td>\n",
       "      <td>False</td>\n",
       "    </tr>\n",
       "    <tr>\n",
       "      <th>21</th>\n",
       "      <td>22</td>\n",
       "      <td>1</td>\n",
       "      <td>2</td>\n",
       "      <td>Beesley, Mr. Lawrence</td>\n",
       "      <td>male</td>\n",
       "      <td>34.0</td>\n",
       "      <td>0</td>\n",
       "      <td>0</td>\n",
       "      <td>248698</td>\n",
       "      <td>13.0000</td>\n",
       "      <td>D56</td>\n",
       "      <td>S</td>\n",
       "      <td>30.0</td>\n",
       "      <td>0</td>\n",
       "      <td>False</td>\n",
       "    </tr>\n",
       "    <tr>\n",
       "      <th>22</th>\n",
       "      <td>23</td>\n",
       "      <td>1</td>\n",
       "      <td>3</td>\n",
       "      <td>McGowan, Miss. Anna \"Annie\"</td>\n",
       "      <td>female</td>\n",
       "      <td>15.0</td>\n",
       "      <td>0</td>\n",
       "      <td>0</td>\n",
       "      <td>330923</td>\n",
       "      <td>8.0292</td>\n",
       "      <td>NaN</td>\n",
       "      <td>Q</td>\n",
       "      <td>15.0</td>\n",
       "      <td>0</td>\n",
       "      <td>True</td>\n",
       "    </tr>\n",
       "    <tr>\n",
       "      <th>23</th>\n",
       "      <td>24</td>\n",
       "      <td>1</td>\n",
       "      <td>1</td>\n",
       "      <td>Sloper, Mr. William Thompson</td>\n",
       "      <td>male</td>\n",
       "      <td>28.0</td>\n",
       "      <td>0</td>\n",
       "      <td>0</td>\n",
       "      <td>113788</td>\n",
       "      <td>35.5000</td>\n",
       "      <td>A6</td>\n",
       "      <td>S</td>\n",
       "      <td>15.0</td>\n",
       "      <td>0</td>\n",
       "      <td>False</td>\n",
       "    </tr>\n",
       "    <tr>\n",
       "      <th>24</th>\n",
       "      <td>25</td>\n",
       "      <td>0</td>\n",
       "      <td>3</td>\n",
       "      <td>Palsson, Miss. Torborg Danira</td>\n",
       "      <td>female</td>\n",
       "      <td>8.0</td>\n",
       "      <td>3</td>\n",
       "      <td>1</td>\n",
       "      <td>349909</td>\n",
       "      <td>21.0750</td>\n",
       "      <td>NaN</td>\n",
       "      <td>S</td>\n",
       "      <td>0.0</td>\n",
       "      <td>4</td>\n",
       "      <td>True</td>\n",
       "    </tr>\n",
       "    <tr>\n",
       "      <th>25</th>\n",
       "      <td>26</td>\n",
       "      <td>1</td>\n",
       "      <td>3</td>\n",
       "      <td>Asplund, Mrs. Carl Oscar (Selma Augusta Emilia...</td>\n",
       "      <td>female</td>\n",
       "      <td>38.0</td>\n",
       "      <td>1</td>\n",
       "      <td>5</td>\n",
       "      <td>347077</td>\n",
       "      <td>31.3875</td>\n",
       "      <td>NaN</td>\n",
       "      <td>S</td>\n",
       "      <td>30.0</td>\n",
       "      <td>6</td>\n",
       "      <td>True</td>\n",
       "    </tr>\n",
       "    <tr>\n",
       "      <th>26</th>\n",
       "      <td>27</td>\n",
       "      <td>0</td>\n",
       "      <td>3</td>\n",
       "      <td>Emir, Mr. Farred Chehab</td>\n",
       "      <td>male</td>\n",
       "      <td>NaN</td>\n",
       "      <td>0</td>\n",
       "      <td>0</td>\n",
       "      <td>2631</td>\n",
       "      <td>7.2250</td>\n",
       "      <td>NaN</td>\n",
       "      <td>C</td>\n",
       "      <td>NaN</td>\n",
       "      <td>0</td>\n",
       "      <td>False</td>\n",
       "    </tr>\n",
       "    <tr>\n",
       "      <th>27</th>\n",
       "      <td>28</td>\n",
       "      <td>0</td>\n",
       "      <td>1</td>\n",
       "      <td>Fortune, Mr. Charles Alexander</td>\n",
       "      <td>male</td>\n",
       "      <td>19.0</td>\n",
       "      <td>3</td>\n",
       "      <td>2</td>\n",
       "      <td>19950</td>\n",
       "      <td>263.0000</td>\n",
       "      <td>C23 C25 C27</td>\n",
       "      <td>S</td>\n",
       "      <td>15.0</td>\n",
       "      <td>5</td>\n",
       "      <td>False</td>\n",
       "    </tr>\n",
       "    <tr>\n",
       "      <th>28</th>\n",
       "      <td>29</td>\n",
       "      <td>1</td>\n",
       "      <td>3</td>\n",
       "      <td>O'Dwyer, Miss. Ellen \"Nellie\"</td>\n",
       "      <td>female</td>\n",
       "      <td>NaN</td>\n",
       "      <td>0</td>\n",
       "      <td>0</td>\n",
       "      <td>330959</td>\n",
       "      <td>7.8792</td>\n",
       "      <td>NaN</td>\n",
       "      <td>Q</td>\n",
       "      <td>NaN</td>\n",
       "      <td>0</td>\n",
       "      <td>True</td>\n",
       "    </tr>\n",
       "    <tr>\n",
       "      <th>29</th>\n",
       "      <td>30</td>\n",
       "      <td>0</td>\n",
       "      <td>3</td>\n",
       "      <td>Todoroff, Mr. Lalio</td>\n",
       "      <td>male</td>\n",
       "      <td>NaN</td>\n",
       "      <td>0</td>\n",
       "      <td>0</td>\n",
       "      <td>349216</td>\n",
       "      <td>7.8958</td>\n",
       "      <td>NaN</td>\n",
       "      <td>S</td>\n",
       "      <td>NaN</td>\n",
       "      <td>0</td>\n",
       "      <td>False</td>\n",
       "    </tr>\n",
       "    <tr>\n",
       "      <th>...</th>\n",
       "      <td>...</td>\n",
       "      <td>...</td>\n",
       "      <td>...</td>\n",
       "      <td>...</td>\n",
       "      <td>...</td>\n",
       "      <td>...</td>\n",
       "      <td>...</td>\n",
       "      <td>...</td>\n",
       "      <td>...</td>\n",
       "      <td>...</td>\n",
       "      <td>...</td>\n",
       "      <td>...</td>\n",
       "      <td>...</td>\n",
       "      <td>...</td>\n",
       "      <td>...</td>\n",
       "    </tr>\n",
       "    <tr>\n",
       "      <th>861</th>\n",
       "      <td>862</td>\n",
       "      <td>0</td>\n",
       "      <td>2</td>\n",
       "      <td>Giles, Mr. Frederick Edward</td>\n",
       "      <td>male</td>\n",
       "      <td>21.0</td>\n",
       "      <td>1</td>\n",
       "      <td>0</td>\n",
       "      <td>28134</td>\n",
       "      <td>11.5000</td>\n",
       "      <td>NaN</td>\n",
       "      <td>S</td>\n",
       "      <td>15.0</td>\n",
       "      <td>1</td>\n",
       "      <td>False</td>\n",
       "    </tr>\n",
       "    <tr>\n",
       "      <th>862</th>\n",
       "      <td>863</td>\n",
       "      <td>1</td>\n",
       "      <td>1</td>\n",
       "      <td>Swift, Mrs. Frederick Joel (Margaret Welles Ba...</td>\n",
       "      <td>female</td>\n",
       "      <td>48.0</td>\n",
       "      <td>0</td>\n",
       "      <td>0</td>\n",
       "      <td>17466</td>\n",
       "      <td>25.9292</td>\n",
       "      <td>D17</td>\n",
       "      <td>S</td>\n",
       "      <td>45.0</td>\n",
       "      <td>0</td>\n",
       "      <td>True</td>\n",
       "    </tr>\n",
       "    <tr>\n",
       "      <th>863</th>\n",
       "      <td>864</td>\n",
       "      <td>0</td>\n",
       "      <td>3</td>\n",
       "      <td>Sage, Miss. Dorothy Edith \"Dolly\"</td>\n",
       "      <td>female</td>\n",
       "      <td>NaN</td>\n",
       "      <td>8</td>\n",
       "      <td>2</td>\n",
       "      <td>CA. 2343</td>\n",
       "      <td>69.5500</td>\n",
       "      <td>NaN</td>\n",
       "      <td>S</td>\n",
       "      <td>NaN</td>\n",
       "      <td>10</td>\n",
       "      <td>True</td>\n",
       "    </tr>\n",
       "    <tr>\n",
       "      <th>864</th>\n",
       "      <td>865</td>\n",
       "      <td>0</td>\n",
       "      <td>2</td>\n",
       "      <td>Gill, Mr. John William</td>\n",
       "      <td>male</td>\n",
       "      <td>24.0</td>\n",
       "      <td>0</td>\n",
       "      <td>0</td>\n",
       "      <td>233866</td>\n",
       "      <td>13.0000</td>\n",
       "      <td>NaN</td>\n",
       "      <td>S</td>\n",
       "      <td>15.0</td>\n",
       "      <td>0</td>\n",
       "      <td>False</td>\n",
       "    </tr>\n",
       "    <tr>\n",
       "      <th>865</th>\n",
       "      <td>866</td>\n",
       "      <td>1</td>\n",
       "      <td>2</td>\n",
       "      <td>Bystrom, Mrs. (Karolina)</td>\n",
       "      <td>female</td>\n",
       "      <td>42.0</td>\n",
       "      <td>0</td>\n",
       "      <td>0</td>\n",
       "      <td>236852</td>\n",
       "      <td>13.0000</td>\n",
       "      <td>NaN</td>\n",
       "      <td>S</td>\n",
       "      <td>30.0</td>\n",
       "      <td>0</td>\n",
       "      <td>True</td>\n",
       "    </tr>\n",
       "    <tr>\n",
       "      <th>866</th>\n",
       "      <td>867</td>\n",
       "      <td>1</td>\n",
       "      <td>2</td>\n",
       "      <td>Duran y More, Miss. Asuncion</td>\n",
       "      <td>female</td>\n",
       "      <td>27.0</td>\n",
       "      <td>1</td>\n",
       "      <td>0</td>\n",
       "      <td>SC/PARIS 2149</td>\n",
       "      <td>13.8583</td>\n",
       "      <td>NaN</td>\n",
       "      <td>C</td>\n",
       "      <td>15.0</td>\n",
       "      <td>1</td>\n",
       "      <td>True</td>\n",
       "    </tr>\n",
       "    <tr>\n",
       "      <th>867</th>\n",
       "      <td>868</td>\n",
       "      <td>0</td>\n",
       "      <td>1</td>\n",
       "      <td>Roebling, Mr. Washington Augustus II</td>\n",
       "      <td>male</td>\n",
       "      <td>31.0</td>\n",
       "      <td>0</td>\n",
       "      <td>0</td>\n",
       "      <td>PC 17590</td>\n",
       "      <td>50.4958</td>\n",
       "      <td>A24</td>\n",
       "      <td>S</td>\n",
       "      <td>30.0</td>\n",
       "      <td>0</td>\n",
       "      <td>False</td>\n",
       "    </tr>\n",
       "    <tr>\n",
       "      <th>868</th>\n",
       "      <td>869</td>\n",
       "      <td>0</td>\n",
       "      <td>3</td>\n",
       "      <td>van Melkebeke, Mr. Philemon</td>\n",
       "      <td>male</td>\n",
       "      <td>NaN</td>\n",
       "      <td>0</td>\n",
       "      <td>0</td>\n",
       "      <td>345777</td>\n",
       "      <td>9.5000</td>\n",
       "      <td>NaN</td>\n",
       "      <td>S</td>\n",
       "      <td>NaN</td>\n",
       "      <td>0</td>\n",
       "      <td>False</td>\n",
       "    </tr>\n",
       "    <tr>\n",
       "      <th>869</th>\n",
       "      <td>870</td>\n",
       "      <td>1</td>\n",
       "      <td>3</td>\n",
       "      <td>Johnson, Master. Harold Theodor</td>\n",
       "      <td>male</td>\n",
       "      <td>4.0</td>\n",
       "      <td>1</td>\n",
       "      <td>1</td>\n",
       "      <td>347742</td>\n",
       "      <td>11.1333</td>\n",
       "      <td>NaN</td>\n",
       "      <td>S</td>\n",
       "      <td>0.0</td>\n",
       "      <td>2</td>\n",
       "      <td>False</td>\n",
       "    </tr>\n",
       "    <tr>\n",
       "      <th>870</th>\n",
       "      <td>871</td>\n",
       "      <td>0</td>\n",
       "      <td>3</td>\n",
       "      <td>Balkic, Mr. Cerin</td>\n",
       "      <td>male</td>\n",
       "      <td>26.0</td>\n",
       "      <td>0</td>\n",
       "      <td>0</td>\n",
       "      <td>349248</td>\n",
       "      <td>7.8958</td>\n",
       "      <td>NaN</td>\n",
       "      <td>S</td>\n",
       "      <td>15.0</td>\n",
       "      <td>0</td>\n",
       "      <td>False</td>\n",
       "    </tr>\n",
       "    <tr>\n",
       "      <th>871</th>\n",
       "      <td>872</td>\n",
       "      <td>1</td>\n",
       "      <td>1</td>\n",
       "      <td>Beckwith, Mrs. Richard Leonard (Sallie Monypeny)</td>\n",
       "      <td>female</td>\n",
       "      <td>47.0</td>\n",
       "      <td>1</td>\n",
       "      <td>1</td>\n",
       "      <td>11751</td>\n",
       "      <td>52.5542</td>\n",
       "      <td>D35</td>\n",
       "      <td>S</td>\n",
       "      <td>45.0</td>\n",
       "      <td>2</td>\n",
       "      <td>True</td>\n",
       "    </tr>\n",
       "    <tr>\n",
       "      <th>872</th>\n",
       "      <td>873</td>\n",
       "      <td>0</td>\n",
       "      <td>1</td>\n",
       "      <td>Carlsson, Mr. Frans Olof</td>\n",
       "      <td>male</td>\n",
       "      <td>33.0</td>\n",
       "      <td>0</td>\n",
       "      <td>0</td>\n",
       "      <td>695</td>\n",
       "      <td>5.0000</td>\n",
       "      <td>B51 B53 B55</td>\n",
       "      <td>S</td>\n",
       "      <td>30.0</td>\n",
       "      <td>0</td>\n",
       "      <td>False</td>\n",
       "    </tr>\n",
       "    <tr>\n",
       "      <th>873</th>\n",
       "      <td>874</td>\n",
       "      <td>0</td>\n",
       "      <td>3</td>\n",
       "      <td>Vander Cruyssen, Mr. Victor</td>\n",
       "      <td>male</td>\n",
       "      <td>47.0</td>\n",
       "      <td>0</td>\n",
       "      <td>0</td>\n",
       "      <td>345765</td>\n",
       "      <td>9.0000</td>\n",
       "      <td>NaN</td>\n",
       "      <td>S</td>\n",
       "      <td>45.0</td>\n",
       "      <td>0</td>\n",
       "      <td>False</td>\n",
       "    </tr>\n",
       "    <tr>\n",
       "      <th>874</th>\n",
       "      <td>875</td>\n",
       "      <td>1</td>\n",
       "      <td>2</td>\n",
       "      <td>Abelson, Mrs. Samuel (Hannah Wizosky)</td>\n",
       "      <td>female</td>\n",
       "      <td>28.0</td>\n",
       "      <td>1</td>\n",
       "      <td>0</td>\n",
       "      <td>P/PP 3381</td>\n",
       "      <td>24.0000</td>\n",
       "      <td>NaN</td>\n",
       "      <td>C</td>\n",
       "      <td>15.0</td>\n",
       "      <td>1</td>\n",
       "      <td>True</td>\n",
       "    </tr>\n",
       "    <tr>\n",
       "      <th>875</th>\n",
       "      <td>876</td>\n",
       "      <td>1</td>\n",
       "      <td>3</td>\n",
       "      <td>Najib, Miss. Adele Kiamie \"Jane\"</td>\n",
       "      <td>female</td>\n",
       "      <td>15.0</td>\n",
       "      <td>0</td>\n",
       "      <td>0</td>\n",
       "      <td>2667</td>\n",
       "      <td>7.2250</td>\n",
       "      <td>NaN</td>\n",
       "      <td>C</td>\n",
       "      <td>15.0</td>\n",
       "      <td>0</td>\n",
       "      <td>True</td>\n",
       "    </tr>\n",
       "    <tr>\n",
       "      <th>876</th>\n",
       "      <td>877</td>\n",
       "      <td>0</td>\n",
       "      <td>3</td>\n",
       "      <td>Gustafsson, Mr. Alfred Ossian</td>\n",
       "      <td>male</td>\n",
       "      <td>20.0</td>\n",
       "      <td>0</td>\n",
       "      <td>0</td>\n",
       "      <td>7534</td>\n",
       "      <td>9.8458</td>\n",
       "      <td>NaN</td>\n",
       "      <td>S</td>\n",
       "      <td>15.0</td>\n",
       "      <td>0</td>\n",
       "      <td>False</td>\n",
       "    </tr>\n",
       "    <tr>\n",
       "      <th>877</th>\n",
       "      <td>878</td>\n",
       "      <td>0</td>\n",
       "      <td>3</td>\n",
       "      <td>Petroff, Mr. Nedelio</td>\n",
       "      <td>male</td>\n",
       "      <td>19.0</td>\n",
       "      <td>0</td>\n",
       "      <td>0</td>\n",
       "      <td>349212</td>\n",
       "      <td>7.8958</td>\n",
       "      <td>NaN</td>\n",
       "      <td>S</td>\n",
       "      <td>15.0</td>\n",
       "      <td>0</td>\n",
       "      <td>False</td>\n",
       "    </tr>\n",
       "    <tr>\n",
       "      <th>878</th>\n",
       "      <td>879</td>\n",
       "      <td>0</td>\n",
       "      <td>3</td>\n",
       "      <td>Laleff, Mr. Kristo</td>\n",
       "      <td>male</td>\n",
       "      <td>NaN</td>\n",
       "      <td>0</td>\n",
       "      <td>0</td>\n",
       "      <td>349217</td>\n",
       "      <td>7.8958</td>\n",
       "      <td>NaN</td>\n",
       "      <td>S</td>\n",
       "      <td>NaN</td>\n",
       "      <td>0</td>\n",
       "      <td>False</td>\n",
       "    </tr>\n",
       "    <tr>\n",
       "      <th>879</th>\n",
       "      <td>880</td>\n",
       "      <td>1</td>\n",
       "      <td>1</td>\n",
       "      <td>Potter, Mrs. Thomas Jr (Lily Alexenia Wilson)</td>\n",
       "      <td>female</td>\n",
       "      <td>56.0</td>\n",
       "      <td>0</td>\n",
       "      <td>1</td>\n",
       "      <td>11767</td>\n",
       "      <td>83.1583</td>\n",
       "      <td>C50</td>\n",
       "      <td>C</td>\n",
       "      <td>45.0</td>\n",
       "      <td>1</td>\n",
       "      <td>True</td>\n",
       "    </tr>\n",
       "    <tr>\n",
       "      <th>880</th>\n",
       "      <td>881</td>\n",
       "      <td>1</td>\n",
       "      <td>2</td>\n",
       "      <td>Shelley, Mrs. William (Imanita Parrish Hall)</td>\n",
       "      <td>female</td>\n",
       "      <td>25.0</td>\n",
       "      <td>0</td>\n",
       "      <td>1</td>\n",
       "      <td>230433</td>\n",
       "      <td>26.0000</td>\n",
       "      <td>NaN</td>\n",
       "      <td>S</td>\n",
       "      <td>15.0</td>\n",
       "      <td>1</td>\n",
       "      <td>True</td>\n",
       "    </tr>\n",
       "    <tr>\n",
       "      <th>881</th>\n",
       "      <td>882</td>\n",
       "      <td>0</td>\n",
       "      <td>3</td>\n",
       "      <td>Markun, Mr. Johann</td>\n",
       "      <td>male</td>\n",
       "      <td>33.0</td>\n",
       "      <td>0</td>\n",
       "      <td>0</td>\n",
       "      <td>349257</td>\n",
       "      <td>7.8958</td>\n",
       "      <td>NaN</td>\n",
       "      <td>S</td>\n",
       "      <td>30.0</td>\n",
       "      <td>0</td>\n",
       "      <td>False</td>\n",
       "    </tr>\n",
       "    <tr>\n",
       "      <th>882</th>\n",
       "      <td>883</td>\n",
       "      <td>0</td>\n",
       "      <td>3</td>\n",
       "      <td>Dahlberg, Miss. Gerda Ulrika</td>\n",
       "      <td>female</td>\n",
       "      <td>22.0</td>\n",
       "      <td>0</td>\n",
       "      <td>0</td>\n",
       "      <td>7552</td>\n",
       "      <td>10.5167</td>\n",
       "      <td>NaN</td>\n",
       "      <td>S</td>\n",
       "      <td>15.0</td>\n",
       "      <td>0</td>\n",
       "      <td>True</td>\n",
       "    </tr>\n",
       "    <tr>\n",
       "      <th>883</th>\n",
       "      <td>884</td>\n",
       "      <td>0</td>\n",
       "      <td>2</td>\n",
       "      <td>Banfield, Mr. Frederick James</td>\n",
       "      <td>male</td>\n",
       "      <td>28.0</td>\n",
       "      <td>0</td>\n",
       "      <td>0</td>\n",
       "      <td>C.A./SOTON 34068</td>\n",
       "      <td>10.5000</td>\n",
       "      <td>NaN</td>\n",
       "      <td>S</td>\n",
       "      <td>15.0</td>\n",
       "      <td>0</td>\n",
       "      <td>False</td>\n",
       "    </tr>\n",
       "    <tr>\n",
       "      <th>884</th>\n",
       "      <td>885</td>\n",
       "      <td>0</td>\n",
       "      <td>3</td>\n",
       "      <td>Sutehall, Mr. Henry Jr</td>\n",
       "      <td>male</td>\n",
       "      <td>25.0</td>\n",
       "      <td>0</td>\n",
       "      <td>0</td>\n",
       "      <td>SOTON/OQ 392076</td>\n",
       "      <td>7.0500</td>\n",
       "      <td>NaN</td>\n",
       "      <td>S</td>\n",
       "      <td>15.0</td>\n",
       "      <td>0</td>\n",
       "      <td>False</td>\n",
       "    </tr>\n",
       "    <tr>\n",
       "      <th>885</th>\n",
       "      <td>886</td>\n",
       "      <td>0</td>\n",
       "      <td>3</td>\n",
       "      <td>Rice, Mrs. William (Margaret Norton)</td>\n",
       "      <td>female</td>\n",
       "      <td>39.0</td>\n",
       "      <td>0</td>\n",
       "      <td>5</td>\n",
       "      <td>382652</td>\n",
       "      <td>29.1250</td>\n",
       "      <td>NaN</td>\n",
       "      <td>Q</td>\n",
       "      <td>30.0</td>\n",
       "      <td>5</td>\n",
       "      <td>True</td>\n",
       "    </tr>\n",
       "    <tr>\n",
       "      <th>886</th>\n",
       "      <td>887</td>\n",
       "      <td>0</td>\n",
       "      <td>2</td>\n",
       "      <td>Montvila, Rev. Juozas</td>\n",
       "      <td>male</td>\n",
       "      <td>27.0</td>\n",
       "      <td>0</td>\n",
       "      <td>0</td>\n",
       "      <td>211536</td>\n",
       "      <td>13.0000</td>\n",
       "      <td>NaN</td>\n",
       "      <td>S</td>\n",
       "      <td>15.0</td>\n",
       "      <td>0</td>\n",
       "      <td>False</td>\n",
       "    </tr>\n",
       "    <tr>\n",
       "      <th>887</th>\n",
       "      <td>888</td>\n",
       "      <td>1</td>\n",
       "      <td>1</td>\n",
       "      <td>Graham, Miss. Margaret Edith</td>\n",
       "      <td>female</td>\n",
       "      <td>19.0</td>\n",
       "      <td>0</td>\n",
       "      <td>0</td>\n",
       "      <td>112053</td>\n",
       "      <td>30.0000</td>\n",
       "      <td>B42</td>\n",
       "      <td>S</td>\n",
       "      <td>15.0</td>\n",
       "      <td>0</td>\n",
       "      <td>True</td>\n",
       "    </tr>\n",
       "    <tr>\n",
       "      <th>888</th>\n",
       "      <td>889</td>\n",
       "      <td>0</td>\n",
       "      <td>3</td>\n",
       "      <td>Johnston, Miss. Catherine Helen \"Carrie\"</td>\n",
       "      <td>female</td>\n",
       "      <td>NaN</td>\n",
       "      <td>1</td>\n",
       "      <td>2</td>\n",
       "      <td>W./C. 6607</td>\n",
       "      <td>23.4500</td>\n",
       "      <td>NaN</td>\n",
       "      <td>S</td>\n",
       "      <td>NaN</td>\n",
       "      <td>3</td>\n",
       "      <td>True</td>\n",
       "    </tr>\n",
       "    <tr>\n",
       "      <th>889</th>\n",
       "      <td>890</td>\n",
       "      <td>1</td>\n",
       "      <td>1</td>\n",
       "      <td>Behr, Mr. Karl Howell</td>\n",
       "      <td>male</td>\n",
       "      <td>26.0</td>\n",
       "      <td>0</td>\n",
       "      <td>0</td>\n",
       "      <td>111369</td>\n",
       "      <td>30.0000</td>\n",
       "      <td>C148</td>\n",
       "      <td>C</td>\n",
       "      <td>15.0</td>\n",
       "      <td>0</td>\n",
       "      <td>False</td>\n",
       "    </tr>\n",
       "    <tr>\n",
       "      <th>890</th>\n",
       "      <td>891</td>\n",
       "      <td>0</td>\n",
       "      <td>3</td>\n",
       "      <td>Dooley, Mr. Patrick</td>\n",
       "      <td>male</td>\n",
       "      <td>32.0</td>\n",
       "      <td>0</td>\n",
       "      <td>0</td>\n",
       "      <td>370376</td>\n",
       "      <td>7.7500</td>\n",
       "      <td>NaN</td>\n",
       "      <td>Q</td>\n",
       "      <td>30.0</td>\n",
       "      <td>0</td>\n",
       "      <td>False</td>\n",
       "    </tr>\n",
       "  </tbody>\n",
       "</table>\n",
       "<p>891 rows × 15 columns</p>\n",
       "</div>"
      ],
      "text/plain": [
       "     PassengerId  Survived  Pclass  \\\n",
       "0              1         0       3   \n",
       "1              2         1       1   \n",
       "2              3         1       3   \n",
       "3              4         1       1   \n",
       "4              5         0       3   \n",
       "5              6         0       3   \n",
       "6              7         0       1   \n",
       "7              8         0       3   \n",
       "8              9         1       3   \n",
       "9             10         1       2   \n",
       "10            11         1       3   \n",
       "11            12         1       1   \n",
       "12            13         0       3   \n",
       "13            14         0       3   \n",
       "14            15         0       3   \n",
       "15            16         1       2   \n",
       "16            17         0       3   \n",
       "17            18         1       2   \n",
       "18            19         0       3   \n",
       "19            20         1       3   \n",
       "20            21         0       2   \n",
       "21            22         1       2   \n",
       "22            23         1       3   \n",
       "23            24         1       1   \n",
       "24            25         0       3   \n",
       "25            26         1       3   \n",
       "26            27         0       3   \n",
       "27            28         0       1   \n",
       "28            29         1       3   \n",
       "29            30         0       3   \n",
       "..           ...       ...     ...   \n",
       "861          862         0       2   \n",
       "862          863         1       1   \n",
       "863          864         0       3   \n",
       "864          865         0       2   \n",
       "865          866         1       2   \n",
       "866          867         1       2   \n",
       "867          868         0       1   \n",
       "868          869         0       3   \n",
       "869          870         1       3   \n",
       "870          871         0       3   \n",
       "871          872         1       1   \n",
       "872          873         0       1   \n",
       "873          874         0       3   \n",
       "874          875         1       2   \n",
       "875          876         1       3   \n",
       "876          877         0       3   \n",
       "877          878         0       3   \n",
       "878          879         0       3   \n",
       "879          880         1       1   \n",
       "880          881         1       2   \n",
       "881          882         0       3   \n",
       "882          883         0       3   \n",
       "883          884         0       2   \n",
       "884          885         0       3   \n",
       "885          886         0       3   \n",
       "886          887         0       2   \n",
       "887          888         1       1   \n",
       "888          889         0       3   \n",
       "889          890         1       1   \n",
       "890          891         0       3   \n",
       "\n",
       "                                                  Name     Sex   Age  SibSp  \\\n",
       "0                              Braund, Mr. Owen Harris    male  22.0      1   \n",
       "1    Cumings, Mrs. John Bradley (Florence Briggs Th...  female  38.0      1   \n",
       "2                               Heikkinen, Miss. Laina  female  26.0      0   \n",
       "3         Futrelle, Mrs. Jacques Heath (Lily May Peel)  female  35.0      1   \n",
       "4                             Allen, Mr. William Henry    male  35.0      0   \n",
       "5                                     Moran, Mr. James    male   NaN      0   \n",
       "6                              McCarthy, Mr. Timothy J    male  54.0      0   \n",
       "7                       Palsson, Master. Gosta Leonard    male   2.0      3   \n",
       "8    Johnson, Mrs. Oscar W (Elisabeth Vilhelmina Berg)  female  27.0      0   \n",
       "9                  Nasser, Mrs. Nicholas (Adele Achem)  female  14.0      1   \n",
       "10                     Sandstrom, Miss. Marguerite Rut  female   4.0      1   \n",
       "11                            Bonnell, Miss. Elizabeth  female  58.0      0   \n",
       "12                      Saundercock, Mr. William Henry    male  20.0      0   \n",
       "13                         Andersson, Mr. Anders Johan    male  39.0      1   \n",
       "14                Vestrom, Miss. Hulda Amanda Adolfina  female  14.0      0   \n",
       "15                    Hewlett, Mrs. (Mary D Kingcome)   female  55.0      0   \n",
       "16                                Rice, Master. Eugene    male   2.0      4   \n",
       "17                        Williams, Mr. Charles Eugene    male   NaN      0   \n",
       "18   Vander Planke, Mrs. Julius (Emelia Maria Vande...  female  31.0      1   \n",
       "19                             Masselmani, Mrs. Fatima  female   NaN      0   \n",
       "20                                Fynney, Mr. Joseph J    male  35.0      0   \n",
       "21                               Beesley, Mr. Lawrence    male  34.0      0   \n",
       "22                         McGowan, Miss. Anna \"Annie\"  female  15.0      0   \n",
       "23                        Sloper, Mr. William Thompson    male  28.0      0   \n",
       "24                       Palsson, Miss. Torborg Danira  female   8.0      3   \n",
       "25   Asplund, Mrs. Carl Oscar (Selma Augusta Emilia...  female  38.0      1   \n",
       "26                             Emir, Mr. Farred Chehab    male   NaN      0   \n",
       "27                      Fortune, Mr. Charles Alexander    male  19.0      3   \n",
       "28                       O'Dwyer, Miss. Ellen \"Nellie\"  female   NaN      0   \n",
       "29                                 Todoroff, Mr. Lalio    male   NaN      0   \n",
       "..                                                 ...     ...   ...    ...   \n",
       "861                        Giles, Mr. Frederick Edward    male  21.0      1   \n",
       "862  Swift, Mrs. Frederick Joel (Margaret Welles Ba...  female  48.0      0   \n",
       "863                  Sage, Miss. Dorothy Edith \"Dolly\"  female   NaN      8   \n",
       "864                             Gill, Mr. John William    male  24.0      0   \n",
       "865                           Bystrom, Mrs. (Karolina)  female  42.0      0   \n",
       "866                       Duran y More, Miss. Asuncion  female  27.0      1   \n",
       "867               Roebling, Mr. Washington Augustus II    male  31.0      0   \n",
       "868                        van Melkebeke, Mr. Philemon    male   NaN      0   \n",
       "869                    Johnson, Master. Harold Theodor    male   4.0      1   \n",
       "870                                  Balkic, Mr. Cerin    male  26.0      0   \n",
       "871   Beckwith, Mrs. Richard Leonard (Sallie Monypeny)  female  47.0      1   \n",
       "872                           Carlsson, Mr. Frans Olof    male  33.0      0   \n",
       "873                        Vander Cruyssen, Mr. Victor    male  47.0      0   \n",
       "874              Abelson, Mrs. Samuel (Hannah Wizosky)  female  28.0      1   \n",
       "875                   Najib, Miss. Adele Kiamie \"Jane\"  female  15.0      0   \n",
       "876                      Gustafsson, Mr. Alfred Ossian    male  20.0      0   \n",
       "877                               Petroff, Mr. Nedelio    male  19.0      0   \n",
       "878                                 Laleff, Mr. Kristo    male   NaN      0   \n",
       "879      Potter, Mrs. Thomas Jr (Lily Alexenia Wilson)  female  56.0      0   \n",
       "880       Shelley, Mrs. William (Imanita Parrish Hall)  female  25.0      0   \n",
       "881                                 Markun, Mr. Johann    male  33.0      0   \n",
       "882                       Dahlberg, Miss. Gerda Ulrika  female  22.0      0   \n",
       "883                      Banfield, Mr. Frederick James    male  28.0      0   \n",
       "884                             Sutehall, Mr. Henry Jr    male  25.0      0   \n",
       "885               Rice, Mrs. William (Margaret Norton)  female  39.0      0   \n",
       "886                              Montvila, Rev. Juozas    male  27.0      0   \n",
       "887                       Graham, Miss. Margaret Edith  female  19.0      0   \n",
       "888           Johnston, Miss. Catherine Helen \"Carrie\"  female   NaN      1   \n",
       "889                              Behr, Mr. Karl Howell    male  26.0      0   \n",
       "890                                Dooley, Mr. Patrick    male  32.0      0   \n",
       "\n",
       "     Parch            Ticket      Fare        Cabin Embarked  AgeBucket  \\\n",
       "0        0         A/5 21171    7.2500          NaN        S       15.0   \n",
       "1        0          PC 17599   71.2833          C85        C       30.0   \n",
       "2        0  STON/O2. 3101282    7.9250          NaN        S       15.0   \n",
       "3        0            113803   53.1000         C123        S       30.0   \n",
       "4        0            373450    8.0500          NaN        S       30.0   \n",
       "5        0            330877    8.4583          NaN        Q        NaN   \n",
       "6        0             17463   51.8625          E46        S       45.0   \n",
       "7        1            349909   21.0750          NaN        S        0.0   \n",
       "8        2            347742   11.1333          NaN        S       15.0   \n",
       "9        0            237736   30.0708          NaN        C        0.0   \n",
       "10       1           PP 9549   16.7000           G6        S        0.0   \n",
       "11       0            113783   26.5500         C103        S       45.0   \n",
       "12       0         A/5. 2151    8.0500          NaN        S       15.0   \n",
       "13       5            347082   31.2750          NaN        S       30.0   \n",
       "14       0            350406    7.8542          NaN        S        0.0   \n",
       "15       0            248706   16.0000          NaN        S       45.0   \n",
       "16       1            382652   29.1250          NaN        Q        0.0   \n",
       "17       0            244373   13.0000          NaN        S        NaN   \n",
       "18       0            345763   18.0000          NaN        S       30.0   \n",
       "19       0              2649    7.2250          NaN        C        NaN   \n",
       "20       0            239865   26.0000          NaN        S       30.0   \n",
       "21       0            248698   13.0000          D56        S       30.0   \n",
       "22       0            330923    8.0292          NaN        Q       15.0   \n",
       "23       0            113788   35.5000           A6        S       15.0   \n",
       "24       1            349909   21.0750          NaN        S        0.0   \n",
       "25       5            347077   31.3875          NaN        S       30.0   \n",
       "26       0              2631    7.2250          NaN        C        NaN   \n",
       "27       2             19950  263.0000  C23 C25 C27        S       15.0   \n",
       "28       0            330959    7.8792          NaN        Q        NaN   \n",
       "29       0            349216    7.8958          NaN        S        NaN   \n",
       "..     ...               ...       ...          ...      ...        ...   \n",
       "861      0             28134   11.5000          NaN        S       15.0   \n",
       "862      0             17466   25.9292          D17        S       45.0   \n",
       "863      2          CA. 2343   69.5500          NaN        S        NaN   \n",
       "864      0            233866   13.0000          NaN        S       15.0   \n",
       "865      0            236852   13.0000          NaN        S       30.0   \n",
       "866      0     SC/PARIS 2149   13.8583          NaN        C       15.0   \n",
       "867      0          PC 17590   50.4958          A24        S       30.0   \n",
       "868      0            345777    9.5000          NaN        S        NaN   \n",
       "869      1            347742   11.1333          NaN        S        0.0   \n",
       "870      0            349248    7.8958          NaN        S       15.0   \n",
       "871      1             11751   52.5542          D35        S       45.0   \n",
       "872      0               695    5.0000  B51 B53 B55        S       30.0   \n",
       "873      0            345765    9.0000          NaN        S       45.0   \n",
       "874      0         P/PP 3381   24.0000          NaN        C       15.0   \n",
       "875      0              2667    7.2250          NaN        C       15.0   \n",
       "876      0              7534    9.8458          NaN        S       15.0   \n",
       "877      0            349212    7.8958          NaN        S       15.0   \n",
       "878      0            349217    7.8958          NaN        S        NaN   \n",
       "879      1             11767   83.1583          C50        C       45.0   \n",
       "880      1            230433   26.0000          NaN        S       15.0   \n",
       "881      0            349257    7.8958          NaN        S       30.0   \n",
       "882      0              7552   10.5167          NaN        S       15.0   \n",
       "883      0  C.A./SOTON 34068   10.5000          NaN        S       15.0   \n",
       "884      0   SOTON/OQ 392076    7.0500          NaN        S       15.0   \n",
       "885      5            382652   29.1250          NaN        Q       30.0   \n",
       "886      0            211536   13.0000          NaN        S       15.0   \n",
       "887      0            112053   30.0000          B42        S       15.0   \n",
       "888      2        W./C. 6607   23.4500          NaN        S        NaN   \n",
       "889      0            111369   30.0000         C148        C       15.0   \n",
       "890      0            370376    7.7500          NaN        Q       30.0   \n",
       "\n",
       "     RelativesOnboard  Women  \n",
       "0                   1  False  \n",
       "1                   1   True  \n",
       "2                   0   True  \n",
       "3                   1   True  \n",
       "4                   0  False  \n",
       "5                   0  False  \n",
       "6                   0  False  \n",
       "7                   4  False  \n",
       "8                   2   True  \n",
       "9                   1   True  \n",
       "10                  2   True  \n",
       "11                  0   True  \n",
       "12                  0  False  \n",
       "13                  6  False  \n",
       "14                  0   True  \n",
       "15                  0   True  \n",
       "16                  5  False  \n",
       "17                  0  False  \n",
       "18                  1   True  \n",
       "19                  0   True  \n",
       "20                  0  False  \n",
       "21                  0  False  \n",
       "22                  0   True  \n",
       "23                  0  False  \n",
       "24                  4   True  \n",
       "25                  6   True  \n",
       "26                  0  False  \n",
       "27                  5  False  \n",
       "28                  0   True  \n",
       "29                  0  False  \n",
       "..                ...    ...  \n",
       "861                 1  False  \n",
       "862                 0   True  \n",
       "863                10   True  \n",
       "864                 0  False  \n",
       "865                 0   True  \n",
       "866                 1   True  \n",
       "867                 0  False  \n",
       "868                 0  False  \n",
       "869                 2  False  \n",
       "870                 0  False  \n",
       "871                 2   True  \n",
       "872                 0  False  \n",
       "873                 0  False  \n",
       "874                 1   True  \n",
       "875                 0   True  \n",
       "876                 0  False  \n",
       "877                 0  False  \n",
       "878                 0  False  \n",
       "879                 1   True  \n",
       "880                 1   True  \n",
       "881                 0  False  \n",
       "882                 0   True  \n",
       "883                 0  False  \n",
       "884                 0  False  \n",
       "885                 5   True  \n",
       "886                 0  False  \n",
       "887                 0   True  \n",
       "888                 3   True  \n",
       "889                 0  False  \n",
       "890                 0  False  \n",
       "\n",
       "[891 rows x 15 columns]"
      ]
     },
<<<<<<< HEAD
     "execution_count": 32,
=======
     "execution_count": 325,
>>>>>>> 9394823c3c8bc9a1cb9c3777e1cd3eac92d21b9f
     "metadata": {},
     "output_type": "execute_result"
    }
   ],
   "source": [
    "train_data"
   ]
  },
  {
   "cell_type": "code",
<<<<<<< HEAD
   "execution_count": 33,
=======
   "execution_count": 326,
>>>>>>> 9394823c3c8bc9a1cb9c3777e1cd3eac92d21b9f
   "metadata": {},
   "outputs": [
    {
     "data": {
      "text/plain": [
       "PassengerId        -0.01\n",
       "Survived            1.00\n",
       "Pclass             -0.34\n",
       "Age                -0.08\n",
       "SibSp              -0.04\n",
       "Parch               0.08\n",
       "Fare                0.26\n",
       "AgeBucket          -0.06\n",
       "RelativesOnboard    0.02\n",
       "Women               0.54\n",
       "Name: Survived, dtype: float64"
      ]
     },
<<<<<<< HEAD
     "execution_count": 33,
=======
     "execution_count": 326,
>>>>>>> 9394823c3c8bc9a1cb9c3777e1cd3eac92d21b9f
     "metadata": {},
     "output_type": "execute_result"
    }
   ],
   "source": [
    "\n",
    "correlation_matrix = train_data.corr().round(2)\n",
    "correlation_matrix[\"Survived\"]"
   ]
  },
  {
   "cell_type": "code",
<<<<<<< HEAD
   "execution_count": 34,
=======
   "execution_count": 327,
>>>>>>> 9394823c3c8bc9a1cb9c3777e1cd3eac92d21b9f
   "metadata": {},
   "outputs": [
    {
     "data": {
      "text/html": [
       "<div>\n",
       "<style scoped>\n",
       "    .dataframe tbody tr th:only-of-type {\n",
       "        vertical-align: middle;\n",
       "    }\n",
       "\n",
       "    .dataframe tbody tr th {\n",
       "        vertical-align: top;\n",
       "    }\n",
       "\n",
       "    .dataframe thead th {\n",
       "        text-align: right;\n",
       "    }\n",
       "</style>\n",
       "<table border=\"1\" class=\"dataframe\">\n",
       "  <thead>\n",
       "    <tr style=\"text-align: right;\">\n",
       "      <th></th>\n",
       "      <th></th>\n",
       "      <th>Survived</th>\n",
       "    </tr>\n",
       "    <tr>\n",
       "      <th>AgeBucket</th>\n",
       "      <th></th>\n",
       "      <th></th>\n",
       "    </tr>\n",
       "  </thead>\n",
       "  <tbody>\n",
       "    <tr>\n",
       "      <th>0.0</th>\n",
       "      <th>Survived</th>\n",
       "      <td>1.0</td>\n",
       "    </tr>\n",
       "    <tr>\n",
       "      <th>15.0</th>\n",
       "      <th>Survived</th>\n",
       "      <td>1.0</td>\n",
       "    </tr>\n",
       "    <tr>\n",
       "      <th>30.0</th>\n",
       "      <th>Survived</th>\n",
       "      <td>1.0</td>\n",
       "    </tr>\n",
       "    <tr>\n",
       "      <th>45.0</th>\n",
       "      <th>Survived</th>\n",
       "      <td>1.0</td>\n",
       "    </tr>\n",
       "    <tr>\n",
       "      <th>60.0</th>\n",
       "      <th>Survived</th>\n",
       "      <td>1.0</td>\n",
       "    </tr>\n",
       "    <tr>\n",
       "      <th>75.0</th>\n",
       "      <th>Survived</th>\n",
       "      <td>NaN</td>\n",
       "    </tr>\n",
       "  </tbody>\n",
       "</table>\n",
       "</div>"
      ],
      "text/plain": [
       "                    Survived\n",
       "AgeBucket                   \n",
       "0.0       Survived       1.0\n",
       "15.0      Survived       1.0\n",
       "30.0      Survived       1.0\n",
       "45.0      Survived       1.0\n",
       "60.0      Survived       1.0\n",
       "75.0      Survived       NaN"
      ]
     },
<<<<<<< HEAD
     "execution_count": 34,
=======
     "execution_count": 327,
>>>>>>> 9394823c3c8bc9a1cb9c3777e1cd3eac92d21b9f
     "metadata": {},
     "output_type": "execute_result"
    }
   ],
   "source": [
    "train_data[\"AgeBucket\"] = train_data[\"Age\"] // 15 * 15\n",
    "train_data[[\"AgeBucket\", \"Survived\"]].groupby(['AgeBucket']).corr().round(2)"
   ]
  },
  {
   "cell_type": "code",
<<<<<<< HEAD
   "execution_count": 35,
=======
   "execution_count": 328,
>>>>>>> 9394823c3c8bc9a1cb9c3777e1cd3eac92d21b9f
   "metadata": {},
   "outputs": [],
   "source": [
    "test_data[\"AgeBucket\"] = test_data[\"Age\"] // 15 * 15"
   ]
  },
  {
   "cell_type": "code",
<<<<<<< HEAD
   "execution_count": 36,
=======
   "execution_count": 329,
>>>>>>> 9394823c3c8bc9a1cb9c3777e1cd3eac92d21b9f
   "metadata": {},
   "outputs": [],
   "source": [
    "cat_pipeline = Pipeline([\n",
    "        (\"select_cat\", DataFrameSelector([\"Pclass\", \"Sex\"])),\n",
    "        (\"imputer\", MostFrequentImputer()),\n",
    "        (\"cat_encoder\", OneHotEncoder(sparse=False)),\n",
    "    ])"
   ]
  },
  {
   "cell_type": "code",
<<<<<<< HEAD
   "execution_count": 37,
=======
   "execution_count": 330,
>>>>>>> 9394823c3c8bc9a1cb9c3777e1cd3eac92d21b9f
   "metadata": {},
   "outputs": [
    {
     "data": {
      "text/plain": [
       "array([[0., 0., 1., 0., 1.],\n",
       "       [1., 0., 0., 1., 0.],\n",
       "       [0., 0., 1., 1., 0.],\n",
       "       ...,\n",
       "       [0., 0., 1., 1., 0.],\n",
       "       [1., 0., 0., 0., 1.],\n",
       "       [0., 0., 1., 0., 1.]])"
      ]
     },
<<<<<<< HEAD
     "execution_count": 37,
=======
     "execution_count": 330,
>>>>>>> 9394823c3c8bc9a1cb9c3777e1cd3eac92d21b9f
     "metadata": {},
     "output_type": "execute_result"
    }
   ],
   "source": [
    "cat_pipeline.fit_transform(train_data)"
   ]
  },
  {
   "cell_type": "code",
<<<<<<< HEAD
   "execution_count": 38,
=======
   "execution_count": 331,
>>>>>>> 9394823c3c8bc9a1cb9c3777e1cd3eac92d21b9f
   "metadata": {},
   "outputs": [],
   "source": [
    "from sklearn.pipeline import FeatureUnion\n",
    "preprocess_pipeline = FeatureUnion(transformer_list=[\n",
    "        (\"num_pipeline\", num_pipeline),\n",
    "        (\"cat_pipeline\", cat_pipeline),\n",
    "    ])"
   ]
  },
  {
   "cell_type": "code",
<<<<<<< HEAD
   "execution_count": 39,
=======
   "execution_count": 332,
>>>>>>> 9394823c3c8bc9a1cb9c3777e1cd3eac92d21b9f
   "metadata": {},
   "outputs": [
    {
     "data": {
      "text/plain": [
       "array([[22.,  1.,  0., ...,  1.,  0.,  1.],\n",
       "       [38.,  1.,  0., ...,  0.,  1.,  0.],\n",
       "       [26.,  0.,  0., ...,  1.,  1.,  0.],\n",
       "       ...,\n",
       "       [28.,  1.,  2., ...,  1.,  1.,  0.],\n",
       "       [26.,  0.,  0., ...,  0.,  0.,  1.],\n",
       "       [32.,  0.,  0., ...,  1.,  0.,  1.]])"
      ]
     },
<<<<<<< HEAD
     "execution_count": 39,
=======
     "execution_count": 332,
>>>>>>> 9394823c3c8bc9a1cb9c3777e1cd3eac92d21b9f
     "metadata": {},
     "output_type": "execute_result"
    }
   ],
   "source": [
    "X_train = preprocess_pipeline.fit_transform(train_data)\n",
    "X_train"
   ]
  },
  {
   "cell_type": "code",
<<<<<<< HEAD
   "execution_count": 40,
=======
   "execution_count": 333,
>>>>>>> 9394823c3c8bc9a1cb9c3777e1cd3eac92d21b9f
   "metadata": {},
   "outputs": [],
   "source": [
    "y_train = train_data[\"Survived\"]"
   ]
  },
  {
   "cell_type": "code",
<<<<<<< HEAD
   "execution_count": 41,
=======
   "execution_count": 334,
>>>>>>> 9394823c3c8bc9a1cb9c3777e1cd3eac92d21b9f
   "metadata": {},
   "outputs": [
    {
     "data": {
      "text/plain": [
       "SVC(C=1.0, cache_size=200, class_weight=None, coef0=0.0,\n",
       "    decision_function_shape='ovr', degree=3, gamma='auto', kernel='rbf',\n",
       "    max_iter=-1, probability=False, random_state=None, shrinking=True,\n",
       "    tol=0.001, verbose=False)"
      ]
     },
<<<<<<< HEAD
     "execution_count": 41,
=======
     "execution_count": 334,
>>>>>>> 9394823c3c8bc9a1cb9c3777e1cd3eac92d21b9f
     "metadata": {},
     "output_type": "execute_result"
    }
   ],
   "source": [
    "from sklearn.svm import SVC\n",
    "\n",
    "svm_clf = SVC(gamma=\"auto\")\n",
    "svm_clf.fit(X_train, y_train)"
   ]
  },
  {
   "cell_type": "code",
<<<<<<< HEAD
   "execution_count": 42,
=======
   "execution_count": 335,
>>>>>>> 9394823c3c8bc9a1cb9c3777e1cd3eac92d21b9f
   "metadata": {
    "scrolled": true
   },
   "outputs": [],
   "source": [
    "X_test = preprocess_pipeline.transform(test_data)\n",
    "y_pred = svm_clf.predict(X_test)"
   ]
  },
  {
   "cell_type": "code",
<<<<<<< HEAD
   "execution_count": 43,
=======
   "execution_count": 336,
>>>>>>> 9394823c3c8bc9a1cb9c3777e1cd3eac92d21b9f
   "metadata": {},
   "outputs": [
    {
     "data": {
      "text/plain": [
       "0.7353262966746114"
      ]
     },
<<<<<<< HEAD
     "execution_count": 43,
=======
     "execution_count": 336,
>>>>>>> 9394823c3c8bc9a1cb9c3777e1cd3eac92d21b9f
     "metadata": {},
     "output_type": "execute_result"
    }
   ],
   "source": [
    "from sklearn.model_selection import cross_val_score\n",
    "\n",
    "svm_scores = cross_val_score(svm_clf, X_train, y_train, cv=10)\n",
    "svm_scores.mean()"
   ]
  },
  {
   "cell_type": "code",
<<<<<<< HEAD
   "execution_count": 44,
=======
   "execution_count": 337,
>>>>>>> 9394823c3c8bc9a1cb9c3777e1cd3eac92d21b9f
   "metadata": {},
   "outputs": [
    {
     "data": {
      "text/plain": [
       "0.8183861082737488"
      ]
     },
<<<<<<< HEAD
     "execution_count": 44,
=======
     "execution_count": 337,
>>>>>>> 9394823c3c8bc9a1cb9c3777e1cd3eac92d21b9f
     "metadata": {},
     "output_type": "execute_result"
    }
   ],
   "source": [
    "from sklearn.ensemble import RandomForestClassifier\n",
    "\n",
    "forest_clf = RandomForestClassifier(n_estimators=100, random_state=42)\n",
    "forest_scores = cross_val_score(forest_clf, X_train, y_train, cv=10)\n",
    "forest_scores.mean()"
   ]
  },
  {
   "cell_type": "code",
<<<<<<< HEAD
   "execution_count": 45,
=======
   "execution_count": 338,
>>>>>>> 9394823c3c8bc9a1cb9c3777e1cd3eac92d21b9f
   "metadata": {},
   "outputs": [
    {
     "data": {
      "image/png": "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\n",
      "text/plain": [
       "<Figure size 576x288 with 1 Axes>"
      ]
     },
     "metadata": {
      "needs_background": "light"
     },
     "output_type": "display_data"
    }
   ],
   "source": [
    "plt.figure(figsize=(8, 4))\n",
    "plt.plot([1]*10, svm_scores, \".\")\n",
    "plt.plot([2]*10, forest_scores, \".\")\n",
    "plt.boxplot([svm_scores, forest_scores], labels=(\"SVM\",\"Random Forest\"))\n",
    "plt.ylabel(\"Accuracy\", fontsize=14)\n",
    "plt.show()"
   ]
  },
  {
   "cell_type": "code",
<<<<<<< HEAD
   "execution_count": 46,
=======
   "execution_count": 339,
>>>>>>> 9394823c3c8bc9a1cb9c3777e1cd3eac92d21b9f
   "metadata": {},
   "outputs": [
    {
     "data": {
      "text/html": [
       "<div>\n",
       "<style scoped>\n",
       "    .dataframe tbody tr th:only-of-type {\n",
       "        vertical-align: middle;\n",
       "    }\n",
       "\n",
       "    .dataframe tbody tr th {\n",
       "        vertical-align: top;\n",
       "    }\n",
       "\n",
       "    .dataframe thead th {\n",
       "        text-align: right;\n",
       "    }\n",
       "</style>\n",
       "<table border=\"1\" class=\"dataframe\">\n",
       "  <thead>\n",
       "    <tr style=\"text-align: right;\">\n",
       "      <th></th>\n",
       "      <th>Pclass</th>\n",
       "      <th>Survived</th>\n",
       "    </tr>\n",
       "  </thead>\n",
       "  <tbody>\n",
       "    <tr>\n",
       "      <th>0</th>\n",
       "      <td>1</td>\n",
       "      <td>0.629630</td>\n",
       "    </tr>\n",
       "    <tr>\n",
       "      <th>1</th>\n",
       "      <td>2</td>\n",
       "      <td>0.472826</td>\n",
       "    </tr>\n",
       "    <tr>\n",
       "      <th>2</th>\n",
       "      <td>3</td>\n",
       "      <td>0.242363</td>\n",
       "    </tr>\n",
       "  </tbody>\n",
       "</table>\n",
       "</div>"
      ],
      "text/plain": [
       "   Pclass  Survived\n",
       "0       1  0.629630\n",
       "1       2  0.472826\n",
       "2       3  0.242363"
      ]
     },
<<<<<<< HEAD
     "execution_count": 46,
=======
     "execution_count": 339,
>>>>>>> 9394823c3c8bc9a1cb9c3777e1cd3eac92d21b9f
     "metadata": {},
     "output_type": "execute_result"
    }
   ],
   "source": [
    "train_data[['Pclass', 'Survived']].groupby(['Pclass'], as_index=False).mean().sort_values(by='Survived', ascending=False)"
   ]
  },
  {
   "cell_type": "code",
<<<<<<< HEAD
   "execution_count": 47,
=======
   "execution_count": 340,
>>>>>>> 9394823c3c8bc9a1cb9c3777e1cd3eac92d21b9f
   "metadata": {},
   "outputs": [
    {
     "data": {
      "text/plain": [
       "Age          177\n",
       "Cabin        687\n",
       "Embarked       2\n",
       "AgeBucket    177\n",
       "dtype: int64"
      ]
     },
<<<<<<< HEAD
     "execution_count": 47,
=======
     "execution_count": 340,
>>>>>>> 9394823c3c8bc9a1cb9c3777e1cd3eac92d21b9f
     "metadata": {},
     "output_type": "execute_result"
    }
   ],
   "source": [
    "train_data.isnull().sum()[train_data.isnull().sum()>0]"
   ]
  },
  {
   "cell_type": "code",
<<<<<<< HEAD
   "execution_count": 48,
=======
   "execution_count": 341,
>>>>>>> 9394823c3c8bc9a1cb9c3777e1cd3eac92d21b9f
   "metadata": {},
   "outputs": [],
   "source": [
    "train_data.Cabin = train_data.Cabin.fillna(\"unknown\")"
   ]
  },
  {
   "cell_type": "code",
<<<<<<< HEAD
   "execution_count": 49,
=======
   "execution_count": 342,
>>>>>>> 9394823c3c8bc9a1cb9c3777e1cd3eac92d21b9f
   "metadata": {},
   "outputs": [],
   "source": [
    "train_data['title'] = train_data.Name.apply(lambda x: x.split('.')[0].split(',')[1].strip())\n",
    "test_data['title'] = test_data.Name.apply(lambda x: x.split('.')[0].split(',')[1].strip())"
   ]
  },
  {
   "cell_type": "code",
<<<<<<< HEAD
   "execution_count": 50,
=======
   "execution_count": 343,
>>>>>>> 9394823c3c8bc9a1cb9c3777e1cd3eac92d21b9f
   "metadata": {},
   "outputs": [],
   "source": [
    "newtitles={\n",
    "    \"Capt\":       \"Officer\",\n",
    "    \"Col\":        \"Officer\",\n",
    "    \"Major\":      \"Officer\",\n",
    "    \"Jonkheer\":   \"Royalty\",\n",
    "    \"Don\":        \"Royalty\",\n",
    "    \"Sir\" :       \"Royalty\",\n",
    "    \"Dr\":         \"Officer\",\n",
    "    \"Rev\":        \"Officer\",\n",
    "    \"the Countess\":\"Royalty\",\n",
    "    \"Dona\":       \"Royalty\",\n",
    "    \"Mme\":        \"Mrs\",\n",
    "    \"Mlle\":       \"Miss\",\n",
    "    \"Ms\":         \"Mrs\",\n",
    "    \"Mr\" :        \"Mr\",\n",
    "    \"Mrs\" :       \"Mrs\",\n",
    "    \"Miss\" :      \"Miss\",\n",
    "    \"Master\" :    \"Master\",\n",
    "    \"Lady\" :      \"Royalty\"}"
   ]
  },
  {
   "cell_type": "code",
<<<<<<< HEAD
   "execution_count": 51,
=======
   "execution_count": 344,
>>>>>>> 9394823c3c8bc9a1cb9c3777e1cd3eac92d21b9f
   "metadata": {},
   "outputs": [],
   "source": [
    "train_data['title']=train_data.title.map(newtitles)\n",
    "test_data['title']=test_data.title.map(newtitles)"
   ]
  },
  {
   "cell_type": "code",
<<<<<<< HEAD
   "execution_count": 52,
=======
   "execution_count": 345,
>>>>>>> 9394823c3c8bc9a1cb9c3777e1cd3eac92d21b9f
   "metadata": {},
   "outputs": [
    {
     "data": {
      "text/plain": [
       "title    Sex   \n",
       "Master   male       4.574167\n",
       "Miss     female    21.804054\n",
       "Mr       male      32.368090\n",
       "Mrs      female    35.718182\n",
       "Officer  female    49.000000\n",
       "         male      46.562500\n",
       "Royalty  female    40.500000\n",
       "         male      42.333333\n",
       "Name: Age, dtype: float64"
      ]
     },
<<<<<<< HEAD
     "execution_count": 52,
=======
     "execution_count": 345,
>>>>>>> 9394823c3c8bc9a1cb9c3777e1cd3eac92d21b9f
     "metadata": {},
     "output_type": "execute_result"
    }
   ],
   "source": [
    "train_data.groupby(['title','Sex']).Age.mean()"
   ]
  },
  {
   "cell_type": "code",
<<<<<<< HEAD
   "execution_count": 53,
=======
   "execution_count": 346,
>>>>>>> 9394823c3c8bc9a1cb9c3777e1cd3eac92d21b9f
   "metadata": {},
   "outputs": [],
   "source": [
    "def newage (cols):\n",
    "    title=cols[0]\n",
    "    Sex=cols[1]\n",
    "    Age=cols[2]\n",
    "    if pd.isnull(Age):\n",
    "        if title=='Master' and Sex==\"male\":\n",
    "            return 4.57\n",
    "        elif title=='Miss' and Sex=='female':\n",
    "            return 21.8\n",
    "        elif title=='Mr' and Sex=='male': \n",
    "            return 32.37\n",
    "        elif title=='Mrs' and Sex=='female':\n",
    "            return 35.72\n",
    "        elif title=='Officer' and Sex=='female':\n",
    "            return 49\n",
    "        elif title=='Officer' and Sex=='male':\n",
    "            return 46.56\n",
    "        elif title=='Royalty' and Sex=='female':\n",
    "            return 40.50\n",
    "        else:\n",
    "            return 42.33\n",
    "    else:\n",
    "        return Age "
   ]
  },
  {
   "cell_type": "code",
<<<<<<< HEAD
   "execution_count": 54,
=======
   "execution_count": 347,
>>>>>>> 9394823c3c8bc9a1cb9c3777e1cd3eac92d21b9f
   "metadata": {},
   "outputs": [],
   "source": [
    "train_data.Age=train_data[['title','Sex','Age']].apply(newage, axis=1)\n",
    "test_data.Age=test_data[['title','Sex','Age']].apply(newage, axis=1)"
   ]
  },
  {
   "cell_type": "code",
<<<<<<< HEAD
   "execution_count": 55,
=======
   "execution_count": 348,
   "metadata": {},
   "outputs": [
    {
     "data": {
      "text/html": [
       "<div>\n",
       "<style scoped>\n",
       "    .dataframe tbody tr th:only-of-type {\n",
       "        vertical-align: middle;\n",
       "    }\n",
       "\n",
       "    .dataframe tbody tr th {\n",
       "        vertical-align: top;\n",
       "    }\n",
       "\n",
       "    .dataframe thead th {\n",
       "        text-align: right;\n",
       "    }\n",
       "</style>\n",
       "<table border=\"1\" class=\"dataframe\">\n",
       "  <thead>\n",
       "    <tr style=\"text-align: right;\">\n",
       "      <th></th>\n",
       "      <th>Survived</th>\n",
       "    </tr>\n",
       "    <tr>\n",
       "      <th>AgeBucket</th>\n",
       "      <th></th>\n",
       "    </tr>\n",
       "  </thead>\n",
       "  <tbody>\n",
       "    <tr>\n",
       "      <td>0.0</td>\n",
       "      <td>0.573171</td>\n",
       "    </tr>\n",
       "    <tr>\n",
       "      <td>15.0</td>\n",
       "      <td>0.388889</td>\n",
       "    </tr>\n",
       "    <tr>\n",
       "      <td>30.0</td>\n",
       "      <td>0.339031</td>\n",
       "    </tr>\n",
       "    <tr>\n",
       "      <td>45.0</td>\n",
       "      <td>0.400000</td>\n",
       "    </tr>\n",
       "    <tr>\n",
       "      <td>60.0</td>\n",
       "      <td>0.240000</td>\n",
       "    </tr>\n",
       "    <tr>\n",
       "      <td>75.0</td>\n",
       "      <td>1.000000</td>\n",
       "    </tr>\n",
       "  </tbody>\n",
       "</table>\n",
       "</div>"
      ],
      "text/plain": [
       "           Survived\n",
       "AgeBucket          \n",
       "0.0        0.573171\n",
       "15.0       0.388889\n",
       "30.0       0.339031\n",
       "45.0       0.400000\n",
       "60.0       0.240000\n",
       "75.0       1.000000"
      ]
     },
     "execution_count": 348,
     "metadata": {},
     "output_type": "execute_result"
    }
   ],
   "source": [
    "train_data[\"AgeBucket\"] = train_data[\"Age\"] // 15 * 15\n",
    "train_data[[\"AgeBucket\", \"Survived\"]].groupby(['AgeBucket']).mean()"
   ]
  },
  {
   "cell_type": "code",
   "execution_count": 349,
>>>>>>> 9394823c3c8bc9a1cb9c3777e1cd3eac92d21b9f
   "metadata": {},
   "outputs": [
    {
     "data": {
      "text/plain": [
<<<<<<< HEAD
       "<matplotlib.axes._subplots.AxesSubplot at 0x1389f7bc940>"
      ]
     },
     "execution_count": 55,
=======
       "<matplotlib.axes._subplots.AxesSubplot at 0x1a21e88ed0>"
      ]
     },
     "execution_count": 349,
>>>>>>> 9394823c3c8bc9a1cb9c3777e1cd3eac92d21b9f
     "metadata": {},
     "output_type": "execute_result"
    },
    {
     "data": {
<<<<<<< HEAD
      "image/png": "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\n",
=======
      "image/png": "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\n",
>>>>>>> 9394823c3c8bc9a1cb9c3777e1cd3eac92d21b9f
      "text/plain": [
       "<Figure size 864x720 with 9 Axes>"
      ]
     },
     "metadata": {
      "needs_background": "light"
     },
     "output_type": "display_data"
    }
   ],
   "source": [
    "#warnings.filterwarnings(action=\"ignore\")\n",
    "plt.figure(figsize=[12,10])\n",
    "plt.subplot(3,3,1)\n",
    "sns.barplot('Pclass','Survived',data=train_data)\n",
    "plt.subplot(3,3,2)\n",
    "sns.barplot('SibSp','Survived',data=train_data)\n",
    "plt.subplot(3,3,3)\n",
    "sns.barplot('Parch','Survived',data=train_data)\n",
    "plt.subplot(3,3,4)\n",
    "sns.barplot('Sex','Survived',data=train_data)\n",
    "plt.subplot(3,3,5)\n",
    "sns.barplot('Ticket','Survived',data=train_data)\n",
    "plt.subplot(3,3,6)\n",
    "sns.barplot('Cabin','Survived',data=train_data)\n",
    "plt.subplot(3,3,7)\n",
    "sns.barplot('Embarked','Survived',data=train_data)\n",
    "plt.subplot(3,3,8)\n",
    "sns.distplot(train_data[train_data.Survived==1].Age, color='green', kde=False)\n",
    "sns.distplot(train_data[train_data.Survived==0].Age, color='orange', kde=False)\n",
    "plt.subplot(3,3,9)\n",
    "sns.distplot(train_data[train_data.Survived==1].Fare, color='green', kde=False)\n",
    "sns.distplot(train_data[train_data.Survived==0].Fare, color='orange', kde=False)"
   ]
  },
  {
   "cell_type": "code",
<<<<<<< HEAD
   "execution_count": 56,
=======
   "execution_count": 350,
>>>>>>> 9394823c3c8bc9a1cb9c3777e1cd3eac92d21b9f
   "metadata": {},
   "outputs": [
    {
     "data": {
      "text/plain": [
       "97.98"
      ]
     },
<<<<<<< HEAD
     "execution_count": 56,
=======
     "execution_count": 350,
>>>>>>> 9394823c3c8bc9a1cb9c3777e1cd3eac92d21b9f
     "metadata": {},
     "output_type": "execute_result"
    }
   ],
   "source": [
    "random_forest = RandomForestClassifier(n_estimators=100)\n",
    "x_fit = random_forest.fit(X_train, y_train)\n",
    "random_forest.score(X_train, y_train)\n",
    "acc_random_forest = round(random_forest.score(X_train, y_train) * 100, 2)\n",
    "acc_random_forest"
   ]
  },
  {
   "cell_type": "code",
<<<<<<< HEAD
   "execution_count": 57,
=======
   "execution_count": 351,
>>>>>>> 9394823c3c8bc9a1cb9c3777e1cd3eac92d21b9f
   "metadata": {},
   "outputs": [
    {
     "data": {
      "text/plain": [
       "1.0"
      ]
     },
<<<<<<< HEAD
     "execution_count": 57,
=======
     "execution_count": 351,
>>>>>>> 9394823c3c8bc9a1cb9c3777e1cd3eac92d21b9f
     "metadata": {},
     "output_type": "execute_result"
    }
   ],
   "source": [
    "random_forest = RandomForestClassifier(n_estimators=100)\n",
    "x_fit = random_forest.fit(X_train, y_train)\n",
    "Y_pred = random_forest.predict(X_test)\n",
    "pred = x_fit.predict(X_test)\n",
    "x_fit.score(X_test, pred)"
   ]
  },
  {
   "cell_type": "code",
<<<<<<< HEAD
   "execution_count": 58,
   "metadata": {},
   "outputs": [
    {
     "name": "stderr",
     "output_type": "stream",
     "text": [
      "C:\\Users\\naomi\\Anaconda3\\lib\\site-packages\\sklearn\\svm\\base.py:929: ConvergenceWarning: Liblinear failed to converge, increase the number of iterations.\n",
      "  \"the number of iterations.\", ConvergenceWarning)\n"
     ]
    },
    {
     "data": {
      "text/plain": [
       "78.56"
      ]
     },
     "execution_count": 58,
     "metadata": {},
     "output_type": "execute_result"
    }
   ],
=======
   "execution_count": 352,
   "metadata": {},
   "outputs": [],
>>>>>>> 9394823c3c8bc9a1cb9c3777e1cd3eac92d21b9f
   "source": [
    "output = pd.DataFrame({'PassengerId':test_data['PassengerId'], 'Survived':pred})"
   ]
  },
  {
   "cell_type": "code",
<<<<<<< HEAD
   "execution_count": 59,
   "metadata": {},
   "outputs": [
    {
     "data": {
      "text/plain": [
       "0.8183861082737488"
      ]
     },
     "execution_count": 59,
     "metadata": {},
     "output_type": "execute_result"
    }
   ],
=======
   "execution_count": 353,
   "metadata": {},
   "outputs": [],
>>>>>>> 9394823c3c8bc9a1cb9c3777e1cd3eac92d21b9f
   "source": [
    "output.to_csv('submission.csv', index=False)"
   ]
  },
  {
   "cell_type": "code",
<<<<<<< HEAD
   "execution_count": 60,
=======
   "execution_count": null,
>>>>>>> 9394823c3c8bc9a1cb9c3777e1cd3eac92d21b9f
   "metadata": {},
   "outputs": [],
   "source": []
  },
  {
   "cell_type": "code",
<<<<<<< HEAD
   "execution_count": 61,
=======
   "execution_count": 354,
>>>>>>> 9394823c3c8bc9a1cb9c3777e1cd3eac92d21b9f
   "metadata": {},
   "outputs": [
    {
     "data": {
      "text/html": [
       "<div>\n",
       "<style scoped>\n",
       "    .dataframe tbody tr th:only-of-type {\n",
       "        vertical-align: middle;\n",
       "    }\n",
       "\n",
       "    .dataframe tbody tr th {\n",
       "        vertical-align: top;\n",
       "    }\n",
       "\n",
       "    .dataframe thead th {\n",
       "        text-align: right;\n",
       "    }\n",
       "</style>\n",
       "<table border=\"1\" class=\"dataframe\">\n",
       "  <thead>\n",
       "    <tr style=\"text-align: right;\">\n",
       "      <th></th>\n",
       "      <th>PassengerId</th>\n",
       "      <th>Survived</th>\n",
       "      <th>Pclass</th>\n",
       "      <th>Name</th>\n",
       "      <th>Sex</th>\n",
       "      <th>Age</th>\n",
       "      <th>SibSp</th>\n",
       "      <th>Parch</th>\n",
       "      <th>Ticket</th>\n",
       "      <th>Fare</th>\n",
       "      <th>Cabin</th>\n",
       "      <th>Embarked</th>\n",
       "      <th>AgeBucket</th>\n",
       "      <th>RelativesOnboard</th>\n",
       "      <th>Women</th>\n",
       "      <th>title</th>\n",
       "    </tr>\n",
       "  </thead>\n",
       "  <tbody>\n",
       "    <tr>\n",
       "      <td>0</td>\n",
       "      <td>1</td>\n",
       "      <td>0</td>\n",
       "      <td>3</td>\n",
       "      <td>Braund, Mr. Owen Harris</td>\n",
       "      <td>male</td>\n",
       "      <td>22.0</td>\n",
       "      <td>1</td>\n",
       "      <td>0</td>\n",
       "      <td>A/5 21171</td>\n",
       "      <td>7.2500</td>\n",
       "      <td>unknown</td>\n",
       "      <td>S</td>\n",
       "      <td>15.0</td>\n",
       "      <td>1</td>\n",
       "      <td>False</td>\n",
       "      <td>Mr</td>\n",
       "    </tr>\n",
       "    <tr>\n",
       "      <td>1</td>\n",
       "      <td>2</td>\n",
       "      <td>1</td>\n",
       "      <td>1</td>\n",
       "      <td>Cumings, Mrs. John Bradley (Florence Briggs Th...</td>\n",
       "      <td>female</td>\n",
       "      <td>38.0</td>\n",
       "      <td>1</td>\n",
       "      <td>0</td>\n",
       "      <td>PC 17599</td>\n",
       "      <td>71.2833</td>\n",
       "      <td>C85</td>\n",
       "      <td>C</td>\n",
       "      <td>30.0</td>\n",
       "      <td>1</td>\n",
       "      <td>True</td>\n",
       "      <td>Mrs</td>\n",
       "    </tr>\n",
       "    <tr>\n",
       "      <td>2</td>\n",
       "      <td>3</td>\n",
       "      <td>1</td>\n",
       "      <td>3</td>\n",
       "      <td>Heikkinen, Miss. Laina</td>\n",
       "      <td>female</td>\n",
       "      <td>26.0</td>\n",
       "      <td>0</td>\n",
       "      <td>0</td>\n",
       "      <td>STON/O2. 3101282</td>\n",
       "      <td>7.9250</td>\n",
       "      <td>unknown</td>\n",
       "      <td>S</td>\n",
       "      <td>15.0</td>\n",
       "      <td>0</td>\n",
       "      <td>True</td>\n",
       "      <td>Miss</td>\n",
       "    </tr>\n",
       "    <tr>\n",
       "      <td>3</td>\n",
       "      <td>4</td>\n",
       "      <td>1</td>\n",
       "      <td>1</td>\n",
       "      <td>Futrelle, Mrs. Jacques Heath (Lily May Peel)</td>\n",
       "      <td>female</td>\n",
       "      <td>35.0</td>\n",
       "      <td>1</td>\n",
       "      <td>0</td>\n",
       "      <td>113803</td>\n",
       "      <td>53.1000</td>\n",
       "      <td>C123</td>\n",
       "      <td>S</td>\n",
       "      <td>30.0</td>\n",
       "      <td>1</td>\n",
       "      <td>True</td>\n",
       "      <td>Mrs</td>\n",
       "    </tr>\n",
       "    <tr>\n",
       "      <td>4</td>\n",
       "      <td>5</td>\n",
       "      <td>0</td>\n",
       "      <td>3</td>\n",
       "      <td>Allen, Mr. William Henry</td>\n",
       "      <td>male</td>\n",
       "      <td>35.0</td>\n",
       "      <td>0</td>\n",
       "      <td>0</td>\n",
       "      <td>373450</td>\n",
       "      <td>8.0500</td>\n",
       "      <td>unknown</td>\n",
       "      <td>S</td>\n",
       "      <td>30.0</td>\n",
       "      <td>0</td>\n",
       "      <td>False</td>\n",
       "      <td>Mr</td>\n",
       "    </tr>\n",
       "  </tbody>\n",
       "</table>\n",
       "</div>"
      ],
      "text/plain": [
       "   PassengerId  Survived  Pclass  \\\n",
       "0            1         0       3   \n",
       "1            2         1       1   \n",
       "2            3         1       3   \n",
       "3            4         1       1   \n",
       "4            5         0       3   \n",
       "\n",
       "                                                Name     Sex   Age  SibSp  \\\n",
       "0                            Braund, Mr. Owen Harris    male  22.0      1   \n",
       "1  Cumings, Mrs. John Bradley (Florence Briggs Th...  female  38.0      1   \n",
       "2                             Heikkinen, Miss. Laina  female  26.0      0   \n",
       "3       Futrelle, Mrs. Jacques Heath (Lily May Peel)  female  35.0      1   \n",
       "4                           Allen, Mr. William Henry    male  35.0      0   \n",
       "\n",
       "   Parch            Ticket     Fare    Cabin Embarked  AgeBucket  \\\n",
       "0      0         A/5 21171   7.2500  unknown        S       15.0   \n",
       "1      0          PC 17599  71.2833      C85        C       30.0   \n",
       "2      0  STON/O2. 3101282   7.9250  unknown        S       15.0   \n",
       "3      0            113803  53.1000     C123        S       30.0   \n",
       "4      0            373450   8.0500  unknown        S       30.0   \n",
       "\n",
       "   RelativesOnboard  Women title  \n",
       "0                 1  False    Mr  \n",
       "1                 1   True   Mrs  \n",
       "2                 0   True  Miss  \n",
       "3                 1   True   Mrs  \n",
       "4                 0  False    Mr  "
      ]
     },
     "execution_count": 354,
     "metadata": {},
     "output_type": "execute_result"
    }
   ],
   "source": [
    "train_data.head()"
   ]
  },
  {
   "cell_type": "code",
   "execution_count": 355,
   "metadata": {},
   "outputs": [],
   "source": [
    "train_data.Fare=train_data.Fare.fillna(train_data.Fare.mean())\n",
    "test_data.Fare=test_data.Fare.fillna(train_data.Fare.mean())"
   ]
  },
  {
   "cell_type": "code",
   "execution_count": 356,
   "metadata": {},
   "outputs": [],
   "source": [
    "train_data.Cabin=train_data.Cabin.fillna(\"unknow\")\n",
    "test_data.Cabin=test_data.Cabin.fillna(\"unknow\")"
   ]
  },
  {
   "cell_type": "code",
   "execution_count": 357,
   "metadata": {},
   "outputs": [],
   "source": [
    "train_data.Embarked=train_data.Embarked.fillna(train_data.Embarked.mode()[0])\n",
    "test_data.Embarked=test_data.Embarked.fillna(train_data.Embarked.mode()[0])"
   ]
  },
  {
   "cell_type": "code",
   "execution_count": 358,
   "metadata": {},
   "outputs": [],
   "source": [
    "train_data.Age=train_data[['title','Sex','Age']].apply(newage, axis=1)\n",
    "test_data.Age=test_data[['title','Sex','Age']].apply(newage, axis=1)"
   ]
  },
  {
   "cell_type": "markdown",
   "metadata": {},
   "source": [
    "Feature engineering"
   ]
  },
  {
   "cell_type": "code",
   "execution_count": 359,
   "metadata": {},
   "outputs": [],
   "source": [
    "train_data['Relatives']=train_data.SibSp+train_data.Parch\n",
    "test_data['Relatives']=test_data.SibSp+test_data.Parch\n",
    "\n",
    "train_data['Ticket2']=train_data.Ticket.apply(lambda x : len(x))\n",
    "test_data['Ticket2']=test_data.Ticket.apply(lambda x : len(x))\n",
    "\n",
    "train_data['Cabin2']=train_data.Cabin.apply(lambda x : len(x))\n",
    "test_data['Cabin2']=test_data.Cabin.apply(lambda x : len(x))\n",
    "\n",
    "train_data['Name2']=train_data.Name.apply(lambda x: x.split(',')[0].strip())\n",
    "test_data['Name2']=test_data.Name.apply(lambda x: x.split(',')[0].strip())"
   ]
  },
  {
   "cell_type": "code",
   "execution_count": 360,
   "metadata": {},
   "outputs": [
    {
     "data": {
      "text/plain": [
       "<matplotlib.axes._subplots.AxesSubplot at 0x1a26e7a1d0>"
      ]
     },
     "execution_count": 360,
     "metadata": {},
     "output_type": "execute_result"
    },
    {
     "data": {
      "image/png": "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\n",
      "text/plain": [
       "<Figure size 864x720 with 3 Axes>"
      ]
     },
     "metadata": {
      "needs_background": "light"
     },
     "output_type": "display_data"
    }
   ],
   "source": [
    "\n",
    "plt.figure(figsize=[12,10])\n",
    "plt.subplot(3,3,1)\n",
    "sns.barplot('Relatives','Survived',data=train_data)\n",
    "plt.subplot(3,3,2)\n",
    "sns.barplot('Ticket2','Survived',data=train_data)\n",
    "plt.subplot(3,3,3)\n",
    "sns.barplot('Cabin2','Survived',data=train_data)"
   ]
  },
  {
   "cell_type": "code",
   "execution_count": 361,
   "metadata": {},
   "outputs": [
    {
     "data": {
      "text/plain": [
       "Series([], dtype: int64)"
      ]
     },
     "execution_count": 361,
     "metadata": {},
     "output_type": "execute_result"
    }
   ],
   "source": [
    "test_data.isnull().sum()[train_data.isnull().sum()>0]"
   ]
  },
  {
   "cell_type": "code",
   "execution_count": 362,
   "metadata": {},
   "outputs": [],
   "source": [
    "train_data.drop([ 'Name','Cabin'],axis=1,inplace=True)\n",
    "test_data.drop(['Name','Cabin'],axis=1,inplace=True)"
   ]
  },
  {
   "cell_type": "code",
   "execution_count": 363,
   "metadata": {},
   "outputs": [],
   "source": [
    "titanic=pd.concat([train_data, test_data], sort=False)\n",
    "titanic=pd.get_dummies(titanic)\n",
    "\n",
    "train=titanic[:len(train_data)]\n",
    "test=titanic[len(train_data):]\n",
    "\n",
    "train.Survived=train.Survived.astype('int')"
   ]
  },
  {
   "cell_type": "code",
   "execution_count": 364,
   "metadata": {},
   "outputs": [],
   "source": []
  },
  {
   "cell_type": "code",
   "execution_count": 365,
   "metadata": {},
   "outputs": [],
   "source": []
  },
  {
   "cell_type": "code",
   "execution_count": 366,
   "metadata": {},
   "outputs": [
    {
     "name": "stderr",
     "output_type": "stream",
     "text": [
      "/opt/anaconda3/lib/python3.7/site-packages/pandas/core/generic.py:5208: SettingWithCopyWarning: \n",
      "A value is trying to be set on a copy of a slice from a DataFrame.\n",
      "Try using .loc[row_indexer,col_indexer] = value instead\n",
      "\n",
      "See the caveats in the documentation: http://pandas.pydata.org/pandas-docs/stable/user_guide/indexing.html#returning-a-view-versus-a-copy\n",
      "  self[name] = value\n"
     ]
    },
    {
     "data": {
      "text/plain": [
       "dtype('int64')"
      ]
     },
     "execution_count": 366,
     "metadata": {},
     "output_type": "execute_result"
    }
   ],
   "source": [
    "\n",
    "train.Survived.dtype"
   ]
  },
  {
   "cell_type": "code",
   "execution_count": 367,
   "metadata": {},
   "outputs": [],
   "source": [
    "xtrain=train.drop(\"Survived\",axis=1)\n",
    "ytrain=train['Survived']\n",
    "xtest=test.drop(\"Survived\", axis=1)"
   ]
  },
  {
   "cell_type": "code",
   "execution_count": 368,
   "metadata": {},
   "outputs": [],
   "source": [
    "\n",
    "from sklearn.model_selection import GridSearchCV\n",
    "\n",
    "RF=RandomForestClassifier(random_state=1)\n",
    "PRF=[{'n_estimators':[10,100],'max_depth':[3,6],'criterion':['gini','entropy']}]\n",
    "GSRF=GridSearchCV(estimator=RF, param_grid=PRF, scoring='accuracy',cv=2)\n",
    "scores_rf=cross_val_score(GSRF,xtrain,ytrain,scoring='accuracy',cv=5)"
   ]
  },
  {
   "cell_type": "code",
   "execution_count": 369,
   "metadata": {},
   "outputs": [
    {
     "data": {
      "text/plain": [
       "0.8183861082737488"
      ]
     },
     "execution_count": 369,
     "metadata": {},
     "output_type": "execute_result"
    }
   ],
   "source": [
    "forest_clf = RandomForestClassifier(n_estimators=100, random_state=42)\n",
    "forest_scores = cross_val_score(forest_clf, X_train, y_train, cv=10)\n",
    "forest_scores.mean()"
   ]
  },
  {
   "cell_type": "code",
   "execution_count": 370,
   "metadata": {},
   "outputs": [
    {
     "data": {
      "text/plain": [
       "1.0"
      ]
     },
     "execution_count": 370,
     "metadata": {},
     "output_type": "execute_result"
    }
   ],
   "source": [
    "random_forest = RandomForestClassifier(n_estimators=100)\n",
    "x_fit = random_forest.fit(X_train, y_train)\n",
    "Y_pred = random_forest.predict(X_test)\n",
    "pred = x_fit.predict(X_test)\n",
    "x_fit.score(X_test, pred)"
   ]
  },
  {
   "cell_type": "code",
   "execution_count": 371,
   "metadata": {},
   "outputs": [],
   "source": [
    "output = pd.DataFrame({'PassengerId':test_data['PassengerId'], 'Survived':pred})"
   ]
  },
  {
   "cell_type": "code",
   "execution_count": 372,
   "metadata": {},
   "outputs": [],
   "source": [
    "output.to_csv('submission.csv', index=False)"
   ]
  },
  {
   "cell_type": "code",
   "execution_count": null,
   "metadata": {},
   "outputs": [],
   "source": []
  },
  {
   "cell_type": "code",
   "execution_count": null,
   "metadata": {},
   "outputs": [],
   "source": []
  },
  {
   "cell_type": "code",
   "execution_count": null,
   "metadata": {},
   "outputs": [],
   "source": []
  },
  {
   "cell_type": "code",
   "execution_count": null,
   "metadata": {},
   "outputs": [],
   "source": []
  },
  {
   "cell_type": "code",
   "execution_count": null,
   "metadata": {},
   "outputs": [],
   "source": []
  },
  {
   "cell_type": "markdown",
   "metadata": {},
   "source": [
    "# Our Work / CLEANED! \\\\"
   ]
  },
  {
   "cell_type": "code",
   "execution_count": 1,
   "metadata": {},
   "outputs": [],
   "source": [
    "# To support both python 2 and python 3\n",
    "from __future__ import division, print_function, unicode_literals\n",
    "\n",
    "# Common imports\n",
    "import numpy as np\n",
    "import os\n",
    "\n",
    "# to make this notebook's output stable across runs\n",
    "np.random.seed(42)\n",
    "\n",
    "# To plot pretty figures\n",
    "%matplotlib inline\n",
    "import matplotlib as mpl\n",
    "import matplotlib.pyplot as plt\n",
    "mpl.rc('axes', labelsize=14)\n",
    "mpl.rc('xtick', labelsize=12)\n",
    "mpl.rc('ytick', labelsize=12)\n",
    "\n",
    "# Where to save the figures\n",
    "PROJECT_ROOT_DIR = \".\"\n",
    "CHAPTER_ID = \"classification\"\n",
    "\n",
    "def save_fig(fig_id, tight_layout=True):\n",
    "    path = os.path.join(PROJECT_ROOT_DIR, \"images\", CHAPTER_ID, fig_id + \".png\")\n",
    "    print(\"Saving figure\", fig_id)\n",
    "    if tight_layout:\n",
    "        plt.tight_layout()\n",
    "    plt.savefig(path, format='png', dpi=300)"
   ]
  },
  {
   "cell_type": "code",
   "execution_count": 2,
   "metadata": {},
   "outputs": [],
   "source": [
    "import pandas as pd\n",
    "import os\n",
    "\n",
    "def load_titanic_data(filename):\n",
    "    csv_path = os.path.join(filename)\n",
    "    return pd.read_csv(csv_path)"
   ]
  },
  {
   "cell_type": "code",
   "execution_count": 3,
   "metadata": {},
   "outputs": [],
   "source": [
    "train_data = load_titanic_data(\"train.csv\")\n",
    "test_data = load_titanic_data(\"test.csv\")"
   ]
  },
  {
   "cell_type": "markdown",
   "metadata": {},
   "source": [
    "## Cleaning and Preprocessing the Data"
   ]
  },
  {
   "cell_type": "markdown",
   "metadata": {},
   "source": [
    "### For finding the age"
   ]
  },
  {
   "cell_type": "code",
   "execution_count": 4,
   "metadata": {},
   "outputs": [],
   "source": [
    "train_data['title'] = train_data.Name.apply(lambda x: x.split('.')[0].split(',')[1].strip())\n",
    "test_data['title'] = test_data.Name.apply(lambda x: x.split('.')[0].split(',')[1].strip())"
   ]
  },
  {
   "cell_type": "code",
   "execution_count": 5,
   "metadata": {},
   "outputs": [],
   "source": [
    "newtitles={\n",
    "    \"Capt\":       \"Officer\",\n",
    "    \"Col\":        \"Officer\",\n",
    "    \"Major\":      \"Officer\",\n",
    "    \"Jonkheer\":   \"Royalty\",\n",
    "    \"Don\":        \"Royalty\",\n",
    "    \"Sir\" :       \"Royalty\",\n",
    "    \"Dr\":         \"Officer\",\n",
    "    \"Rev\":        \"Officer\",\n",
    "    \"the Countess\":\"Royalty\",\n",
    "    \"Dona\":       \"Royalty\",\n",
    "    \"Mme\":        \"Mrs\",\n",
    "    \"Mlle\":       \"Miss\",\n",
    "    \"Ms\":         \"Mrs\",\n",
    "    \"Mr\" :        \"Mr\",\n",
    "    \"Mrs\" :       \"Mrs\",\n",
    "    \"Miss\" :      \"Miss\",\n",
    "    \"Master\" :    \"Master\",\n",
    "    \"Lady\" :      \"Royalty\"}"
   ]
  },
  {
   "cell_type": "code",
   "execution_count": 6,
   "metadata": {},
   "outputs": [],
   "source": [
    "train_data['title']=train_data.title.map(newtitles)\n",
    "test_data['title']=test_data.title.map(newtitles)"
   ]
  },
  {
   "cell_type": "code",
   "execution_count": 7,
   "metadata": {},
   "outputs": [],
   "source": [
    "def newage (cols):\n",
    "    title=cols[0]\n",
    "    Sex=cols[1]\n",
    "    Age=cols[2]\n",
    "    if pd.isnull(Age):\n",
    "        if title=='Master' and Sex==\"male\":\n",
    "            return 4.57\n",
    "        elif title=='Miss' and Sex=='female':\n",
    "            return 21.8\n",
    "        elif title=='Mr' and Sex=='male': \n",
    "            return 32.37\n",
    "        elif title=='Mrs' and Sex=='female':\n",
    "            return 35.72\n",
    "        elif title=='Officer' and Sex=='female':\n",
    "            return 49\n",
    "        elif title=='Officer' and Sex=='male':\n",
    "            return 46.56\n",
    "        elif title=='Royalty' and Sex=='female':\n",
    "            return 40.50\n",
    "        else:\n",
    "            return 42.33\n",
    "    else:\n",
    "        return Age "
   ]
  },
  {
   "cell_type": "code",
   "execution_count": 8,
   "metadata": {},
   "outputs": [],
   "source": [
    "train_data.Age=train_data[['title','Sex','Age']].apply(newage, axis=1)\n",
    "test_data.Age=test_data[['title','Sex','Age']].apply(newage, axis=1)"
   ]
  },
  {
   "cell_type": "code",
   "execution_count": 9,
   "metadata": {},
   "outputs": [],
   "source": [
    "train_data[\"AgeBucket\"] = train_data[\"Age\"] // 15 * 15\n",
    "test_data[\"AgeBucket\"] = test_data[\"Age\"] \n",
    "#train_data[[\"AgeBucket\", \"Survived\"]].groupby(['AgeBucket']).mean()"
   ]
  },
  {
   "cell_type": "markdown",
   "metadata": {},
   "source": [
    "### Cleaning Fare"
   ]
  },
  {
   "cell_type": "code",
   "execution_count": 10,
   "metadata": {},
   "outputs": [],
   "source": [
    "train_data.Fare=train_data.Fare.fillna(train_data.Fare.mean())\n",
    "test_data.Fare=test_data.Fare.fillna(train_data.Fare.mean())"
   ]
  },
  {
   "cell_type": "markdown",
   "metadata": {},
   "source": [
    "### Cleaning the Cabin Value"
   ]
  },
  {
   "cell_type": "code",
   "execution_count": 11,
   "metadata": {},
   "outputs": [],
   "source": [
    "train_data.Cabin=train_data.Cabin.fillna(\"unknow\")\n",
    "test_data.Cabin=test_data.Cabin.fillna(\"unknow\")"
   ]
  },
  {
   "cell_type": "markdown",
   "metadata": {},
   "source": [
    "### Cleaning the Embarked"
   ]
  },
  {
   "cell_type": "code",
   "execution_count": 12,
   "metadata": {},
   "outputs": [],
   "source": [
    "train_data.Embarked=train_data.Embarked.fillna(train_data.Embarked.mode()[0])\n",
    "test_data.Embarked=test_data.Embarked.fillna(train_data.Embarked.mode()[0])"
   ]
  },
  {
   "cell_type": "markdown",
   "metadata": {},
   "source": [
    "## Pipeline"
   ]
  },
  {
   "cell_type": "code",
   "execution_count": 13,
   "metadata": {},
   "outputs": [],
   "source": [
    "from sklearn.pipeline import Pipeline\n",
    "try:\n",
    "    from sklearn.impute import SimpleImputer # Scikit-Learn 0.20+\n",
    "except ImportError:\n",
    "    from sklearn.preprocessing import Imputer as SimpleImputer"
   ]
  },
  {
   "cell_type": "code",
   "execution_count": 14,
   "metadata": {},
   "outputs": [],
   "source": [
    "from sklearn.base import BaseEstimator, TransformerMixin\n",
    "\n",
    "# A class to select numerical or categorical columns \n",
    "# since Scikit-Learn doesn't handle DataFrames yet\n",
    "class DataFrameSelector(BaseEstimator, TransformerMixin):\n",
    "    def __init__(self, attribute_names):\n",
    "        self.attribute_names = attribute_names\n",
    "    def fit(self, X, y=None):\n",
    "        return self\n",
    "    def transform(self, X):\n",
    "        return X[self.attribute_names]"
   ]
  },
  {
   "cell_type": "code",
   "execution_count": 15,
   "metadata": {},
   "outputs": [],
   "source": [
    "# Inspired from stackoverflow.com/questions/25239958\n",
    "class MostFrequentImputer(BaseEstimator, TransformerMixin):\n",
    "    def fit(self, X, y=None):\n",
    "        self.most_frequent_ = pd.Series([X[c].value_counts().index[0] for c in X],\n",
    "                                        index=X.columns)\n",
    "        return self\n",
    "    def transform(self, X, y=None):\n",
    "        return X.fillna(self.most_frequent_)"
   ]
  },
  {
   "cell_type": "code",
   "execution_count": 16,
   "metadata": {},
   "outputs": [],
   "source": [
    "try:\n",
    "    from sklearn.preprocessing import OrdinalEncoder # just to raise an ImportError if Scikit-Learn < 0.20\n",
    "    from sklearn.preprocessing import OneHotEncoder\n",
    "except ImportError:\n",
    "    from future_encoders import OneHotEncoder # Scikit-Learn < 0.20"
   ]
  },
  {
   "cell_type": "markdown",
   "metadata": {},
   "source": [
    "Pipeline taking into account: age, families, fare"
   ]
  },
  {
   "cell_type": "code",
   "execution_count": 17,
   "metadata": {},
   "outputs": [
    {
     "data": {
      "text/plain": [
       "array([[22.    ,  1.    ,  0.    ,  7.25  ],\n",
       "       [38.    ,  1.    ,  0.    , 71.2833],\n",
       "       [26.    ,  0.    ,  0.    ,  7.925 ],\n",
       "       ...,\n",
       "       [21.8   ,  1.    ,  2.    , 23.45  ],\n",
       "       [26.    ,  0.    ,  0.    , 30.    ],\n",
       "       [32.    ,  0.    ,  0.    ,  7.75  ]])"
      ]
     },
     "execution_count": 17,
     "metadata": {},
     "output_type": "execute_result"
    }
   ],
   "source": [
    "num_pipeline = Pipeline([\n",
    "        (\"select_numeric\", DataFrameSelector([\"Age\", \"SibSp\", \"Parch\", \"Fare\"])),\n",
    "        (\"imputer\", SimpleImputer(strategy=\"median\")),\n",
    "    ])\n",
    "num_pipeline.fit_transform(train_data)"
   ]
  },
  {
   "cell_type": "markdown",
   "metadata": {},
   "source": [
    "Another pipeline, taking into account: Class, sex, location, age bucket"
   ]
  },
  {
   "cell_type": "code",
   "execution_count": 18,
   "metadata": {},
   "outputs": [],
   "source": [
    "cat_pipeline = Pipeline([\n",
    "        (\"select_cat\", DataFrameSelector([\"Pclass\", \"Sex\", \"Embarked\"])),\n",
    "        (\"imputer\", MostFrequentImputer()),\n",
    "        (\"cat_encoder\", OneHotEncoder(sparse=False)),\n",
    "    ])"
   ]
  },
  {
   "cell_type": "code",
   "execution_count": 19,
   "metadata": {},
   "outputs": [
    {
     "data": {
      "text/plain": [
       "array([[0., 0., 1., ..., 0., 0., 1.],\n",
       "       [1., 0., 0., ..., 1., 0., 0.],\n",
       "       [0., 0., 1., ..., 0., 0., 1.],\n",
       "       ...,\n",
       "       [0., 0., 1., ..., 0., 0., 1.],\n",
       "       [1., 0., 0., ..., 1., 0., 0.],\n",
       "       [0., 0., 1., ..., 0., 1., 0.]])"
      ]
     },
     "execution_count": 19,
     "metadata": {},
     "output_type": "execute_result"
    }
   ],
   "source": [
    "cat_pipeline.fit_transform(train_data)"
   ]
  },
  {
   "cell_type": "markdown",
   "metadata": {},
   "source": [
    "Pipeline to combine cat and num"
   ]
  },
  {
   "cell_type": "code",
   "execution_count": 20,
   "metadata": {},
   "outputs": [],
   "source": [
    "from sklearn.pipeline import FeatureUnion\n",
    "preprocess_pipeline = FeatureUnion(transformer_list=[\n",
    "        (\"num_pipeline\", num_pipeline),\n",
    "        (\"cat_pipeline\", cat_pipeline),\n",
    "    ])"
   ]
  },
  {
   "cell_type": "code",
   "execution_count": 21,
   "metadata": {},
   "outputs": [],
   "source": [
    "X_train = preprocess_pipeline.fit_transform(train_data)\n",
    "y_train = train_data[\"Survived\"]\n",
    "\n",
    "#X_test = preprocess_pipeline.transform(test_data)"
   ]
  },
  {
   "cell_type": "markdown",
   "metadata": {},
   "source": [
    "## SVC Classifier"
   ]
  },
  {
   "cell_type": "code",
   "execution_count": 22,
   "metadata": {},
   "outputs": [
    {
     "data": {
      "text/plain": [
       "SVC(C=1.0, cache_size=200, class_weight=None, coef0=0.0,\n",
       "    decision_function_shape='ovr', degree=3, gamma='auto', kernel='rbf',\n",
       "    max_iter=-1, probability=False, random_state=None, shrinking=True,\n",
       "    tol=0.001, verbose=False)"
      ]
     },
     "execution_count": 22,
     "metadata": {},
     "output_type": "execute_result"
    }
   ],
   "source": [
    "from sklearn.svm import SVC\n",
    "\n",
    "svm_clf = SVC(gamma=\"auto\")\n",
    "svm_clf.fit(X_train, y_train)"
   ]
  },
  {
   "cell_type": "code",
   "execution_count": 23,
   "metadata": {},
   "outputs": [],
   "source": [
    "X_test = preprocess_pipeline.transform(test_data)\n",
    "y_pred = svm_clf.predict(X_test)"
   ]
  },
  {
   "cell_type": "code",
   "execution_count": 24,
   "metadata": {},
   "outputs": [
    {
     "data": {
      "text/plain": [
       "0.739782658041085"
      ]
     },
     "execution_count": 24,
     "metadata": {},
     "output_type": "execute_result"
    }
   ],
   "source": [
    "from sklearn.model_selection import cross_val_score\n",
    "\n",
    "svm_scores = cross_val_score(svm_clf, X_train, y_train, cv=10)\n",
    "svm_scores.mean()"
   ]
  },
  {
   "cell_type": "markdown",
   "metadata": {},
   "source": [
    "## Random Forest Classifier\n",
    "\n",
    "Have a score of 81%"
   ]
  },
  {
   "cell_type": "code",
   "execution_count": 25,
   "metadata": {},
   "outputs": [
    {
     "data": {
      "text/plain": [
       "0.8138295880149812"
      ]
     },
     "execution_count": 25,
     "metadata": {},
     "output_type": "execute_result"
    }
   ],
   "source": [
    "from sklearn.ensemble import RandomForestClassifier\n",
    "from sklearn.model_selection import cross_val_score\n",
    "\n",
    "forest_clf = RandomForestClassifier(n_estimators=100, random_state=42)\n",
    "forest_scores = cross_val_score(forest_clf, X_train, y_train, cv=10)\n",
    "forest_scores.mean()"
   ]
  },
  {
   "cell_type": "code",
   "execution_count": 26,
   "metadata": {},
   "outputs": [
    {
     "data": {
      "text/plain": [
       "1.0"
      ]
     },
     "execution_count": 26,
     "metadata": {},
     "output_type": "execute_result"
    }
   ],
   "source": [
    "x_fit = forest_clf.fit(X_train, y_train)\n",
    "Y_pred = forest_clf.predict(X_test)\n",
    "pred = x_fit.predict(X_test)\n",
    "x_fit.score(X_test, pred)"
   ]
  },
  {
   "cell_type": "markdown",
   "metadata": {},
   "source": [
    "## Decision Tree Classifier\n",
    "\n",
    "Kaggle Score: 0.72248"
   ]
  },
  {
   "cell_type": "code",
   "execution_count": 27,
   "metadata": {},
   "outputs": [
    {
     "name": "stdout",
     "output_type": "stream",
     "text": [
      "Model Accuracy:  98.2\n"
     ]
    }
   ],
   "source": [
    "from sklearn.tree import DecisionTreeClassifier\n",
    "\n",
    "decision_tree = DecisionTreeClassifier()\n",
    "decision_tree.fit(X_train, y_train)\n",
    "Y_pred = decision_tree.predict(X_test)\n",
    "accuracy = round(decision_tree.score(X_train, y_train) * 100, 2)\n",
    "\n",
    "print(\"Model Accuracy: \",accuracy)"
   ]
  },
  {
   "cell_type": "code",
   "execution_count": 28,
   "metadata": {},
   "outputs": [
    {
     "data": {
      "text/plain": [
       "0.7834791737600726"
      ]
     },
     "execution_count": 28,
     "metadata": {},
     "output_type": "execute_result"
    }
   ],
   "source": [
    "decision_tree_score = cross_val_score(decision_tree, X_train, y_train, cv=10)\n",
    "decision_tree_score.mean()"
   ]
  },
  {
   "cell_type": "code",
   "execution_count": 29,
   "metadata": {},
   "outputs": [
    {
     "data": {
      "text/plain": [
       "1.0"
      ]
     },
     "execution_count": 29,
     "metadata": {},
     "output_type": "execute_result"
    }
   ],
   "source": [
    "x_fit = decision_tree.fit(X_train, y_train)\n",
    "Y_pred = decision_tree.predict(X_test)\n",
    "pred = x_fit.predict(X_test)\n",
    "x_fit.score(X_test, pred)"
   ]
  },
  {
   "cell_type": "markdown",
   "metadata": {},
   "source": [
    "# Outputting "
   ]
  },
  {
   "cell_type": "code",
   "execution_count": null,
   "metadata": {},
   "outputs": [],
   "source": [
    "output = pd.DataFrame({'PassengerId':test_data['PassengerId'], 'Survived':pred})\n",
    "output.to_csv('submission.csv', index=False)"
   ]
  },
  {
   "cell_type": "code",
   "execution_count": null,
   "metadata": {},
   "outputs": [],
   "source": []
  },
  {
   "cell_type": "code",
   "execution_count": null,
   "metadata": {},
   "outputs": [],
   "source": []
  }
 ],
 "metadata": {
  "kernelspec": {
   "display_name": "Python 3",
   "language": "python",
   "name": "python3"
  },
  "language_info": {
   "codemirror_mode": {
    "name": "ipython",
    "version": 3
   },
   "file_extension": ".py",
   "mimetype": "text/x-python",
   "name": "python",
   "nbconvert_exporter": "python",
   "pygments_lexer": "ipython3",
   "version": "3.7.3"
  },
  "nav_menu": {},
  "toc": {
   "navigate_menu": true,
   "number_sections": true,
   "sideBar": true,
   "threshold": 6,
   "toc_cell": false,
   "toc_section_display": "block",
   "toc_window_display": false
  }
 },
 "nbformat": 4,
 "nbformat_minor": 1
}
